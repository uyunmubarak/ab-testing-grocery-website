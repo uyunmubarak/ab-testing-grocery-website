{
 "cells": [
  {
   "attachments": {},
   "cell_type": "markdown",
   "metadata": {},
   "source": [
    "# **Website of The Grocery Store Chain**\n",
    "___________________________\n"
   ]
  },
  {
   "attachments": {},
   "cell_type": "markdown",
   "metadata": {},
   "source": [
    "### **Experimentation and A/B Testing Project**\n",
    "- You are an analyst for a large grocery chain.\n",
    "- One of your company’s goals is to drive more customers to download our mobile app and register for the loyalty program.\n",
    "- Your manager is curious if changing the link to a button of the app store will improve the user’s ability to download the app.\n",
    "- Your manager asks you to create an A/B testing plan for changing the link to a button of the app store with the expectation it will the user’s interest to download the app."
   ]
  },
  {
   "attachments": {},
   "cell_type": "markdown",
   "metadata": {},
   "source": [
    "### **Data Quality**"
   ]
  },
  {
   "attachments": {},
   "cell_type": "markdown",
   "metadata": {},
   "source": [
    "#### Import Data"
   ]
  },
  {
   "attachments": {},
   "cell_type": "markdown",
   "metadata": {},
   "source": [
    "First, we must import the data.\n",
    "- Grocery website is stord in `.csv` named `grocerywebsiteabtestdata.csv`\n",
    "- Import data into python with `pd.read_csv(...)` to start analysis"
   ]
  },
  {
   "cell_type": "code",
   "execution_count": 1,
   "metadata": {},
   "outputs": [],
   "source": [
    "#load data\n",
    "import pandas as pd\n",
    "import numpy as np\n",
    "\n",
    "#visualization\n",
    "import matplotlib.pyplot as plt"
   ]
  },
  {
   "cell_type": "code",
   "execution_count": 2,
   "metadata": {},
   "outputs": [
    {
     "data": {
      "text/html": [
       "<div>\n",
       "<style scoped>\n",
       "    .dataframe tbody tr th:only-of-type {\n",
       "        vertical-align: middle;\n",
       "    }\n",
       "\n",
       "    .dataframe tbody tr th {\n",
       "        vertical-align: top;\n",
       "    }\n",
       "\n",
       "    .dataframe thead th {\n",
       "        text-align: right;\n",
       "    }\n",
       "</style>\n",
       "<table border=\"1\" class=\"dataframe\">\n",
       "  <thead>\n",
       "    <tr style=\"text-align: right;\">\n",
       "      <th></th>\n",
       "      <th>RecordID</th>\n",
       "      <th>IP Address</th>\n",
       "      <th>LoggedInFlag</th>\n",
       "      <th>ServerID</th>\n",
       "      <th>VisitPageFlag</th>\n",
       "    </tr>\n",
       "  </thead>\n",
       "  <tbody>\n",
       "    <tr>\n",
       "      <th>0</th>\n",
       "      <td>1</td>\n",
       "      <td>39.13.114.2</td>\n",
       "      <td>1</td>\n",
       "      <td>2</td>\n",
       "      <td>0</td>\n",
       "    </tr>\n",
       "    <tr>\n",
       "      <th>1</th>\n",
       "      <td>2</td>\n",
       "      <td>13.3.25.8</td>\n",
       "      <td>1</td>\n",
       "      <td>1</td>\n",
       "      <td>0</td>\n",
       "    </tr>\n",
       "    <tr>\n",
       "      <th>2</th>\n",
       "      <td>3</td>\n",
       "      <td>247.8.211.8</td>\n",
       "      <td>1</td>\n",
       "      <td>1</td>\n",
       "      <td>0</td>\n",
       "    </tr>\n",
       "    <tr>\n",
       "      <th>3</th>\n",
       "      <td>4</td>\n",
       "      <td>124.8.220.3</td>\n",
       "      <td>0</td>\n",
       "      <td>3</td>\n",
       "      <td>0</td>\n",
       "    </tr>\n",
       "    <tr>\n",
       "      <th>4</th>\n",
       "      <td>5</td>\n",
       "      <td>60.10.192.7</td>\n",
       "      <td>0</td>\n",
       "      <td>2</td>\n",
       "      <td>0</td>\n",
       "    </tr>\n",
       "    <tr>\n",
       "      <th>5</th>\n",
       "      <td>6</td>\n",
       "      <td>23.5.199.2</td>\n",
       "      <td>1</td>\n",
       "      <td>3</td>\n",
       "      <td>0</td>\n",
       "    </tr>\n",
       "    <tr>\n",
       "      <th>6</th>\n",
       "      <td>7</td>\n",
       "      <td>195.12.126.2</td>\n",
       "      <td>1</td>\n",
       "      <td>1</td>\n",
       "      <td>0</td>\n",
       "    </tr>\n",
       "    <tr>\n",
       "      <th>7</th>\n",
       "      <td>8</td>\n",
       "      <td>97.6.126.6</td>\n",
       "      <td>0</td>\n",
       "      <td>3</td>\n",
       "      <td>1</td>\n",
       "    </tr>\n",
       "    <tr>\n",
       "      <th>8</th>\n",
       "      <td>9</td>\n",
       "      <td>93.10.165.4</td>\n",
       "      <td>1</td>\n",
       "      <td>1</td>\n",
       "      <td>0</td>\n",
       "    </tr>\n",
       "    <tr>\n",
       "      <th>9</th>\n",
       "      <td>10</td>\n",
       "      <td>180.3.76.4</td>\n",
       "      <td>1</td>\n",
       "      <td>1</td>\n",
       "      <td>0</td>\n",
       "    </tr>\n",
       "  </tbody>\n",
       "</table>\n",
       "</div>"
      ],
      "text/plain": [
       "   RecordID    IP Address  LoggedInFlag  ServerID  VisitPageFlag\n",
       "0         1   39.13.114.2             1         2              0\n",
       "1         2     13.3.25.8             1         1              0\n",
       "2         3   247.8.211.8             1         1              0\n",
       "3         4   124.8.220.3             0         3              0\n",
       "4         5   60.10.192.7             0         2              0\n",
       "5         6    23.5.199.2             1         3              0\n",
       "6         7  195.12.126.2             1         1              0\n",
       "7         8    97.6.126.6             0         3              1\n",
       "8         9   93.10.165.4             1         1              0\n",
       "9        10    180.3.76.4             1         1              0"
      ]
     },
     "execution_count": 2,
     "metadata": {},
     "output_type": "execute_result"
    }
   ],
   "source": [
    "#initialization filename\n",
    "filename = \"grocerywebsiteabtestdata.csv\"\n",
    "\n",
    "#import data\n",
    "data = pd.read_csv(filename)\n",
    "\n",
    "#display 10 top rows of the data\n",
    "data.head(10)"
   ]
  },
  {
   "attachments": {},
   "cell_type": "markdown",
   "metadata": {},
   "source": [
    "- There are 5 column (`RecordID`, `IP Address`, `LoggedInFlag`, `ServerID`, `VisitPageFlag`)\n",
    "- `RecordID` : identifier of the row of data\n",
    "- `IP Address` : address of the user, who is visiting website\n",
    "- `LoggedInFlag` : 1 - when user has an account and logged in\n",
    "- `ServerID` : one of the servers user was routed through\n",
    "- `VisitPageFlag` : 1 - when user clicked on the loyalty program page"
   ]
  },
  {
   "cell_type": "code",
   "execution_count": 3,
   "metadata": {},
   "outputs": [
    {
     "name": "stdout",
     "output_type": "stream",
     "text": [
      "<class 'pandas.core.frame.DataFrame'>\n",
      "RangeIndex: 184588 entries, 0 to 184587\n",
      "Data columns (total 5 columns):\n",
      " #   Column         Non-Null Count   Dtype \n",
      "---  ------         --------------   ----- \n",
      " 0   RecordID       184588 non-null  int64 \n",
      " 1   IP Address     184588 non-null  object\n",
      " 2   LoggedInFlag   184588 non-null  int64 \n",
      " 3   ServerID       184588 non-null  int64 \n",
      " 4   VisitPageFlag  184588 non-null  int64 \n",
      "dtypes: int64(4), object(1)\n",
      "memory usage: 7.0+ MB\n"
     ]
    }
   ],
   "source": [
    "#overview data\n",
    "data.info()"
   ]
  },
  {
   "cell_type": "code",
   "execution_count": 4,
   "metadata": {},
   "outputs": [
    {
     "data": {
      "text/plain": [
       "(184588, 5)"
      ]
     },
     "execution_count": 4,
     "metadata": {},
     "output_type": "execute_result"
    }
   ],
   "source": [
    "#dimension of data\n",
    "data.shape"
   ]
  },
  {
   "cell_type": "code",
   "execution_count": 5,
   "metadata": {},
   "outputs": [
    {
     "data": {
      "text/html": [
       "<div>\n",
       "<style scoped>\n",
       "    .dataframe tbody tr th:only-of-type {\n",
       "        vertical-align: middle;\n",
       "    }\n",
       "\n",
       "    .dataframe tbody tr th {\n",
       "        vertical-align: top;\n",
       "    }\n",
       "\n",
       "    .dataframe thead th {\n",
       "        text-align: right;\n",
       "    }\n",
       "</style>\n",
       "<table border=\"1\" class=\"dataframe\">\n",
       "  <thead>\n",
       "    <tr style=\"text-align: right;\">\n",
       "      <th></th>\n",
       "      <th>RecordID</th>\n",
       "      <th>LoggedInFlag</th>\n",
       "      <th>ServerID</th>\n",
       "      <th>VisitPageFlag</th>\n",
       "    </tr>\n",
       "  </thead>\n",
       "  <tbody>\n",
       "    <tr>\n",
       "      <th>count</th>\n",
       "      <td>184588.000000</td>\n",
       "      <td>184588.000000</td>\n",
       "      <td>184588.000000</td>\n",
       "      <td>184588.000000</td>\n",
       "    </tr>\n",
       "    <tr>\n",
       "      <th>mean</th>\n",
       "      <td>92294.500000</td>\n",
       "      <td>0.503657</td>\n",
       "      <td>1.999691</td>\n",
       "      <td>0.058184</td>\n",
       "    </tr>\n",
       "    <tr>\n",
       "      <th>std</th>\n",
       "      <td>53286.110082</td>\n",
       "      <td>0.499988</td>\n",
       "      <td>0.816719</td>\n",
       "      <td>0.234091</td>\n",
       "    </tr>\n",
       "    <tr>\n",
       "      <th>min</th>\n",
       "      <td>1.000000</td>\n",
       "      <td>0.000000</td>\n",
       "      <td>1.000000</td>\n",
       "      <td>0.000000</td>\n",
       "    </tr>\n",
       "    <tr>\n",
       "      <th>25%</th>\n",
       "      <td>46147.750000</td>\n",
       "      <td>0.000000</td>\n",
       "      <td>1.000000</td>\n",
       "      <td>0.000000</td>\n",
       "    </tr>\n",
       "    <tr>\n",
       "      <th>50%</th>\n",
       "      <td>92294.500000</td>\n",
       "      <td>1.000000</td>\n",
       "      <td>2.000000</td>\n",
       "      <td>0.000000</td>\n",
       "    </tr>\n",
       "    <tr>\n",
       "      <th>75%</th>\n",
       "      <td>138441.250000</td>\n",
       "      <td>1.000000</td>\n",
       "      <td>3.000000</td>\n",
       "      <td>0.000000</td>\n",
       "    </tr>\n",
       "    <tr>\n",
       "      <th>max</th>\n",
       "      <td>184588.000000</td>\n",
       "      <td>1.000000</td>\n",
       "      <td>3.000000</td>\n",
       "      <td>1.000000</td>\n",
       "    </tr>\n",
       "  </tbody>\n",
       "</table>\n",
       "</div>"
      ],
      "text/plain": [
       "            RecordID   LoggedInFlag       ServerID  VisitPageFlag\n",
       "count  184588.000000  184588.000000  184588.000000  184588.000000\n",
       "mean    92294.500000       0.503657       1.999691       0.058184\n",
       "std     53286.110082       0.499988       0.816719       0.234091\n",
       "min         1.000000       0.000000       1.000000       0.000000\n",
       "25%     46147.750000       0.000000       1.000000       0.000000\n",
       "50%     92294.500000       1.000000       2.000000       0.000000\n",
       "75%    138441.250000       1.000000       3.000000       0.000000\n",
       "max    184588.000000       1.000000       3.000000       1.000000"
      ]
     },
     "execution_count": 5,
     "metadata": {},
     "output_type": "execute_result"
    }
   ],
   "source": [
    "data.describe()"
   ]
  },
  {
   "attachments": {},
   "cell_type": "markdown",
   "metadata": {},
   "source": [
    "#### Missing Value"
   ]
  },
  {
   "cell_type": "code",
   "execution_count": 6,
   "metadata": {},
   "outputs": [
    {
     "data": {
      "text/plain": [
       "RecordID         0\n",
       "IP Address       0\n",
       "LoggedInFlag     0\n",
       "ServerID         0\n",
       "VisitPageFlag    0\n",
       "dtype: int64"
      ]
     },
     "execution_count": 6,
     "metadata": {},
     "output_type": "execute_result"
    }
   ],
   "source": [
    "#checking missing value\n",
    "data.isna().sum()"
   ]
  },
  {
   "attachments": {},
   "cell_type": "markdown",
   "metadata": {},
   "source": [
    "- There is no missing value."
   ]
  },
  {
   "attachments": {},
   "cell_type": "markdown",
   "metadata": {},
   "source": [
    "#### Uniqueness"
   ]
  },
  {
   "attachments": {},
   "cell_type": "markdown",
   "metadata": {},
   "source": [
    "An IP Address may have visited the page more than once. So, we must to check duplicate data on IP Address."
   ]
  },
  {
   "cell_type": "code",
   "execution_count": 7,
   "metadata": {},
   "outputs": [
    {
     "data": {
      "text/plain": [
       "85072"
      ]
     },
     "execution_count": 7,
     "metadata": {},
     "output_type": "execute_result"
    }
   ],
   "source": [
    "#checking duplicate data \n",
    "data.duplicated(['IP Address']).sum()"
   ]
  },
  {
   "cell_type": "code",
   "execution_count": 8,
   "metadata": {},
   "outputs": [
    {
     "data": {
      "text/plain": [
       "(99516, 5)"
      ]
     },
     "execution_count": 8,
     "metadata": {},
     "output_type": "execute_result"
    }
   ],
   "source": [
    "#droping duplicates data\n",
    "data.drop_duplicates(subset='IP Address', inplace=True)\n",
    "data.shape"
   ]
  },
  {
   "attachments": {},
   "cell_type": "markdown",
   "metadata": {},
   "source": [
    "- Now, we have 99516 total records with no duplicates and data ready for analysis."
   ]
  },
  {
   "cell_type": "code",
   "execution_count": 9,
   "metadata": {},
   "outputs": [
    {
     "data": {
      "text/html": [
       "<div>\n",
       "<style scoped>\n",
       "    .dataframe tbody tr th:only-of-type {\n",
       "        vertical-align: middle;\n",
       "    }\n",
       "\n",
       "    .dataframe tbody tr th {\n",
       "        vertical-align: top;\n",
       "    }\n",
       "\n",
       "    .dataframe thead th {\n",
       "        text-align: right;\n",
       "    }\n",
       "</style>\n",
       "<table border=\"1\" class=\"dataframe\">\n",
       "  <thead>\n",
       "    <tr style=\"text-align: right;\">\n",
       "      <th></th>\n",
       "      <th>RecordID</th>\n",
       "      <th>IP Address</th>\n",
       "      <th>LoggedInFlag</th>\n",
       "      <th>ServerID</th>\n",
       "      <th>VisitPageFlag</th>\n",
       "    </tr>\n",
       "  </thead>\n",
       "  <tbody>\n",
       "    <tr>\n",
       "      <th>0</th>\n",
       "      <td>1</td>\n",
       "      <td>39.13.114.2</td>\n",
       "      <td>1</td>\n",
       "      <td>2</td>\n",
       "      <td>0</td>\n",
       "    </tr>\n",
       "    <tr>\n",
       "      <th>1</th>\n",
       "      <td>2</td>\n",
       "      <td>13.3.25.8</td>\n",
       "      <td>1</td>\n",
       "      <td>1</td>\n",
       "      <td>0</td>\n",
       "    </tr>\n",
       "    <tr>\n",
       "      <th>2</th>\n",
       "      <td>3</td>\n",
       "      <td>247.8.211.8</td>\n",
       "      <td>1</td>\n",
       "      <td>1</td>\n",
       "      <td>0</td>\n",
       "    </tr>\n",
       "    <tr>\n",
       "      <th>3</th>\n",
       "      <td>4</td>\n",
       "      <td>124.8.220.3</td>\n",
       "      <td>0</td>\n",
       "      <td>3</td>\n",
       "      <td>0</td>\n",
       "    </tr>\n",
       "    <tr>\n",
       "      <th>4</th>\n",
       "      <td>5</td>\n",
       "      <td>60.10.192.7</td>\n",
       "      <td>0</td>\n",
       "      <td>2</td>\n",
       "      <td>0</td>\n",
       "    </tr>\n",
       "    <tr>\n",
       "      <th>5</th>\n",
       "      <td>6</td>\n",
       "      <td>23.5.199.2</td>\n",
       "      <td>1</td>\n",
       "      <td>3</td>\n",
       "      <td>0</td>\n",
       "    </tr>\n",
       "    <tr>\n",
       "      <th>6</th>\n",
       "      <td>7</td>\n",
       "      <td>195.12.126.2</td>\n",
       "      <td>1</td>\n",
       "      <td>1</td>\n",
       "      <td>0</td>\n",
       "    </tr>\n",
       "    <tr>\n",
       "      <th>7</th>\n",
       "      <td>8</td>\n",
       "      <td>97.6.126.6</td>\n",
       "      <td>0</td>\n",
       "      <td>3</td>\n",
       "      <td>1</td>\n",
       "    </tr>\n",
       "    <tr>\n",
       "      <th>8</th>\n",
       "      <td>9</td>\n",
       "      <td>93.10.165.4</td>\n",
       "      <td>1</td>\n",
       "      <td>1</td>\n",
       "      <td>0</td>\n",
       "    </tr>\n",
       "    <tr>\n",
       "      <th>9</th>\n",
       "      <td>10</td>\n",
       "      <td>180.3.76.4</td>\n",
       "      <td>1</td>\n",
       "      <td>1</td>\n",
       "      <td>0</td>\n",
       "    </tr>\n",
       "  </tbody>\n",
       "</table>\n",
       "</div>"
      ],
      "text/plain": [
       "   RecordID    IP Address  LoggedInFlag  ServerID  VisitPageFlag\n",
       "0         1   39.13.114.2             1         2              0\n",
       "1         2     13.3.25.8             1         1              0\n",
       "2         3   247.8.211.8             1         1              0\n",
       "3         4   124.8.220.3             0         3              0\n",
       "4         5   60.10.192.7             0         2              0\n",
       "5         6    23.5.199.2             1         3              0\n",
       "6         7  195.12.126.2             1         1              0\n",
       "7         8    97.6.126.6             0         3              1\n",
       "8         9   93.10.165.4             1         1              0\n",
       "9        10    180.3.76.4             1         1              0"
      ]
     },
     "execution_count": 9,
     "metadata": {},
     "output_type": "execute_result"
    }
   ],
   "source": [
    "#display 10 top rows of the data\n",
    "data.head(10)"
   ]
  },
  {
   "attachments": {},
   "cell_type": "markdown",
   "metadata": {},
   "source": [
    "#### Distribution of Data"
   ]
  },
  {
   "attachments": {},
   "cell_type": "markdown",
   "metadata": {},
   "source": [
    "Split the dataset into `Control` and `Treatment` groups."
   ]
  },
  {
   "cell_type": "code",
   "execution_count": 10,
   "metadata": {},
   "outputs": [
    {
     "data": {
      "text/plain": [
       "33229"
      ]
     },
     "execution_count": 10,
     "metadata": {},
     "output_type": "execute_result"
    }
   ],
   "source": [
    "#length of ServerID when value 1\n",
    "len(data[data['ServerID']==1])"
   ]
  },
  {
   "cell_type": "code",
   "execution_count": 11,
   "metadata": {},
   "outputs": [
    {
     "data": {
      "text/plain": [
       "33105"
      ]
     },
     "execution_count": 11,
     "metadata": {},
     "output_type": "execute_result"
    }
   ],
   "source": [
    "#length of ServerID when value 2\n",
    "len(data[data['ServerID']==2])"
   ]
  },
  {
   "cell_type": "code",
   "execution_count": 12,
   "metadata": {},
   "outputs": [
    {
     "data": {
      "text/plain": [
       "33182"
      ]
     },
     "execution_count": 12,
     "metadata": {},
     "output_type": "execute_result"
    }
   ],
   "source": [
    "#length of ServerID when value 3\n",
    "len(data[data['ServerID']==3])"
   ]
  },
  {
   "cell_type": "code",
   "execution_count": 64,
   "metadata": {},
   "outputs": [
    {
     "data": {
      "text/html": [
       "<div>\n",
       "<style scoped>\n",
       "    .dataframe tbody tr th:only-of-type {\n",
       "        vertical-align: middle;\n",
       "    }\n",
       "\n",
       "    .dataframe tbody tr th {\n",
       "        vertical-align: top;\n",
       "    }\n",
       "\n",
       "    .dataframe thead th {\n",
       "        text-align: right;\n",
       "    }\n",
       "</style>\n",
       "<table border=\"1\" class=\"dataframe\">\n",
       "  <thead>\n",
       "    <tr style=\"text-align: right;\">\n",
       "      <th>VisitPageFlag</th>\n",
       "      <th>0</th>\n",
       "      <th>1</th>\n",
       "    </tr>\n",
       "    <tr>\n",
       "      <th>ServerID</th>\n",
       "      <th></th>\n",
       "      <th></th>\n",
       "    </tr>\n",
       "  </thead>\n",
       "  <tbody>\n",
       "    <tr>\n",
       "      <th>1</th>\n",
       "      <td>30938</td>\n",
       "      <td>2291</td>\n",
       "    </tr>\n",
       "    <tr>\n",
       "      <th>2</th>\n",
       "      <td>31359</td>\n",
       "      <td>1746</td>\n",
       "    </tr>\n",
       "    <tr>\n",
       "      <th>3</th>\n",
       "      <td>31461</td>\n",
       "      <td>1721</td>\n",
       "    </tr>\n",
       "  </tbody>\n",
       "</table>\n",
       "</div>"
      ],
      "text/plain": [
       "VisitPageFlag      0     1\n",
       "ServerID                  \n",
       "1              30938  2291\n",
       "2              31359  1746\n",
       "3              31461  1721"
      ]
     },
     "execution_count": 64,
     "metadata": {},
     "output_type": "execute_result"
    }
   ],
   "source": [
    "#compare each ServerID with VisitPageFlag\n",
    "serverID_with_visitPage = pd.crosstab(data[\"ServerID\"], data['VisitPageFlag'])\n",
    "serverID_with_visitPage"
   ]
  },
  {
   "attachments": {},
   "cell_type": "markdown",
   "metadata": {},
   "source": [
    "We will set ServerID = 1 as `Treatment` Group and ServerID = 2 and 3 as `Control` Group"
   ]
  },
  {
   "cell_type": "code",
   "execution_count": 14,
   "metadata": {},
   "outputs": [
    {
     "data": {
      "text/html": [
       "<div>\n",
       "<style scoped>\n",
       "    .dataframe tbody tr th:only-of-type {\n",
       "        vertical-align: middle;\n",
       "    }\n",
       "\n",
       "    .dataframe tbody tr th {\n",
       "        vertical-align: top;\n",
       "    }\n",
       "\n",
       "    .dataframe thead th {\n",
       "        text-align: right;\n",
       "    }\n",
       "</style>\n",
       "<table border=\"1\" class=\"dataframe\">\n",
       "  <thead>\n",
       "    <tr style=\"text-align: right;\">\n",
       "      <th></th>\n",
       "      <th>RecordID</th>\n",
       "      <th>IP Address</th>\n",
       "      <th>LoggedInFlag</th>\n",
       "      <th>ServerID</th>\n",
       "      <th>VisitPageFlag</th>\n",
       "      <th>Group</th>\n",
       "    </tr>\n",
       "  </thead>\n",
       "  <tbody>\n",
       "    <tr>\n",
       "      <th>0</th>\n",
       "      <td>1</td>\n",
       "      <td>39.13.114.2</td>\n",
       "      <td>1</td>\n",
       "      <td>2</td>\n",
       "      <td>0</td>\n",
       "      <td>Control</td>\n",
       "    </tr>\n",
       "    <tr>\n",
       "      <th>1</th>\n",
       "      <td>2</td>\n",
       "      <td>13.3.25.8</td>\n",
       "      <td>1</td>\n",
       "      <td>1</td>\n",
       "      <td>0</td>\n",
       "      <td>Treatment</td>\n",
       "    </tr>\n",
       "    <tr>\n",
       "      <th>2</th>\n",
       "      <td>3</td>\n",
       "      <td>247.8.211.8</td>\n",
       "      <td>1</td>\n",
       "      <td>1</td>\n",
       "      <td>0</td>\n",
       "      <td>Treatment</td>\n",
       "    </tr>\n",
       "    <tr>\n",
       "      <th>3</th>\n",
       "      <td>4</td>\n",
       "      <td>124.8.220.3</td>\n",
       "      <td>0</td>\n",
       "      <td>3</td>\n",
       "      <td>0</td>\n",
       "      <td>Control</td>\n",
       "    </tr>\n",
       "    <tr>\n",
       "      <th>4</th>\n",
       "      <td>5</td>\n",
       "      <td>60.10.192.7</td>\n",
       "      <td>0</td>\n",
       "      <td>2</td>\n",
       "      <td>0</td>\n",
       "      <td>Control</td>\n",
       "    </tr>\n",
       "  </tbody>\n",
       "</table>\n",
       "</div>"
      ],
      "text/plain": [
       "   RecordID   IP Address  LoggedInFlag  ServerID  VisitPageFlag      Group\n",
       "0         1  39.13.114.2             1         2              0    Control\n",
       "1         2    13.3.25.8             1         1              0  Treatment\n",
       "2         3  247.8.211.8             1         1              0  Treatment\n",
       "3         4  124.8.220.3             0         3              0    Control\n",
       "4         5  60.10.192.7             0         2              0    Control"
      ]
     },
     "execution_count": 14,
     "metadata": {},
     "output_type": "execute_result"
    }
   ],
   "source": [
    "data['Group'] = np.where(data['ServerID'] == 1, 'Treatment', 'Control')\n",
    "data.head()"
   ]
  },
  {
   "cell_type": "code",
   "execution_count": 27,
   "metadata": {},
   "outputs": [
    {
     "data": {
      "text/plain": [
       "66287"
      ]
     },
     "execution_count": 27,
     "metadata": {},
     "output_type": "execute_result"
    }
   ],
   "source": [
    "#length of Control Group\n",
    "n_control = len(data[data['Group']=='Control'])\n",
    "n_control"
   ]
  },
  {
   "cell_type": "code",
   "execution_count": 18,
   "metadata": {},
   "outputs": [
    {
     "data": {
      "text/plain": [
       "33229"
      ]
     },
     "execution_count": 18,
     "metadata": {},
     "output_type": "execute_result"
    }
   ],
   "source": [
    "#length of Treatment Group\n",
    "n_treatment = len(data[data['Group']=='Treatment'])\n",
    "n_treatment"
   ]
  },
  {
   "attachments": {},
   "cell_type": "markdown",
   "metadata": {},
   "source": [
    "*Calculate of sample size = \n",
    "n = 16(0.5)2 / 0.022  = 10.000 users in each variant*"
   ]
  },
  {
   "attachments": {},
   "cell_type": "markdown",
   "metadata": {},
   "source": [
    "From calculating of sample size, we get 10.000 users in each variant. So we can sample using Simple Random Sampling in this dataset."
   ]
  },
  {
   "cell_type": "code",
   "execution_count": 30,
   "metadata": {},
   "outputs": [],
   "source": [
    "#initialization the number of sample\n",
    "n = 10_000"
   ]
  },
  {
   "cell_type": "code",
   "execution_count": 35,
   "metadata": {},
   "outputs": [
    {
     "data": {
      "text/html": [
       "<div>\n",
       "<style scoped>\n",
       "    .dataframe tbody tr th:only-of-type {\n",
       "        vertical-align: middle;\n",
       "    }\n",
       "\n",
       "    .dataframe tbody tr th {\n",
       "        vertical-align: top;\n",
       "    }\n",
       "\n",
       "    .dataframe thead th {\n",
       "        text-align: right;\n",
       "    }\n",
       "</style>\n",
       "<table border=\"1\" class=\"dataframe\">\n",
       "  <thead>\n",
       "    <tr style=\"text-align: right;\">\n",
       "      <th></th>\n",
       "      <th>RecordID</th>\n",
       "      <th>IP Address</th>\n",
       "      <th>LoggedInFlag</th>\n",
       "      <th>ServerID</th>\n",
       "      <th>VisitPageFlag</th>\n",
       "      <th>Group</th>\n",
       "    </tr>\n",
       "  </thead>\n",
       "  <tbody>\n",
       "    <tr>\n",
       "      <th>135000</th>\n",
       "      <td>135001</td>\n",
       "      <td>243.5.202.7</td>\n",
       "      <td>0</td>\n",
       "      <td>2</td>\n",
       "      <td>0</td>\n",
       "      <td>Control</td>\n",
       "    </tr>\n",
       "    <tr>\n",
       "      <th>44845</th>\n",
       "      <td>44846</td>\n",
       "      <td>72.7.46.5</td>\n",
       "      <td>1</td>\n",
       "      <td>3</td>\n",
       "      <td>0</td>\n",
       "      <td>Control</td>\n",
       "    </tr>\n",
       "    <tr>\n",
       "      <th>40059</th>\n",
       "      <td>40060</td>\n",
       "      <td>27.15.12.3</td>\n",
       "      <td>1</td>\n",
       "      <td>2</td>\n",
       "      <td>0</td>\n",
       "      <td>Control</td>\n",
       "    </tr>\n",
       "    <tr>\n",
       "      <th>18965</th>\n",
       "      <td>18966</td>\n",
       "      <td>28.3.179.9</td>\n",
       "      <td>1</td>\n",
       "      <td>3</td>\n",
       "      <td>0</td>\n",
       "      <td>Control</td>\n",
       "    </tr>\n",
       "    <tr>\n",
       "      <th>45416</th>\n",
       "      <td>45417</td>\n",
       "      <td>137.2.139.9</td>\n",
       "      <td>1</td>\n",
       "      <td>2</td>\n",
       "      <td>0</td>\n",
       "      <td>Control</td>\n",
       "    </tr>\n",
       "    <tr>\n",
       "      <th>...</th>\n",
       "      <td>...</td>\n",
       "      <td>...</td>\n",
       "      <td>...</td>\n",
       "      <td>...</td>\n",
       "      <td>...</td>\n",
       "      <td>...</td>\n",
       "    </tr>\n",
       "    <tr>\n",
       "      <th>168985</th>\n",
       "      <td>168986</td>\n",
       "      <td>107.8.191.4</td>\n",
       "      <td>0</td>\n",
       "      <td>2</td>\n",
       "      <td>0</td>\n",
       "      <td>Control</td>\n",
       "    </tr>\n",
       "    <tr>\n",
       "      <th>69513</th>\n",
       "      <td>69514</td>\n",
       "      <td>143.4.220.9</td>\n",
       "      <td>1</td>\n",
       "      <td>3</td>\n",
       "      <td>0</td>\n",
       "      <td>Control</td>\n",
       "    </tr>\n",
       "    <tr>\n",
       "      <th>153595</th>\n",
       "      <td>153596</td>\n",
       "      <td>155.5.105.7</td>\n",
       "      <td>0</td>\n",
       "      <td>3</td>\n",
       "      <td>0</td>\n",
       "      <td>Control</td>\n",
       "    </tr>\n",
       "    <tr>\n",
       "      <th>11103</th>\n",
       "      <td>11104</td>\n",
       "      <td>212.3.6.7</td>\n",
       "      <td>0</td>\n",
       "      <td>2</td>\n",
       "      <td>0</td>\n",
       "      <td>Control</td>\n",
       "    </tr>\n",
       "    <tr>\n",
       "      <th>63308</th>\n",
       "      <td>63309</td>\n",
       "      <td>242.7.169.4</td>\n",
       "      <td>1</td>\n",
       "      <td>2</td>\n",
       "      <td>0</td>\n",
       "      <td>Control</td>\n",
       "    </tr>\n",
       "  </tbody>\n",
       "</table>\n",
       "<p>10000 rows × 6 columns</p>\n",
       "</div>"
      ],
      "text/plain": [
       "        RecordID   IP Address  LoggedInFlag  ServerID  VisitPageFlag    Group\n",
       "135000    135001  243.5.202.7             0         2              0  Control\n",
       "44845      44846    72.7.46.5             1         3              0  Control\n",
       "40059      40060   27.15.12.3             1         2              0  Control\n",
       "18965      18966   28.3.179.9             1         3              0  Control\n",
       "45416      45417  137.2.139.9             1         2              0  Control\n",
       "...          ...          ...           ...       ...            ...      ...\n",
       "168985    168986  107.8.191.4             0         2              0  Control\n",
       "69513      69514  143.4.220.9             1         3              0  Control\n",
       "153595    153596  155.5.105.7             0         3              0  Control\n",
       "11103      11104    212.3.6.7             0         2              0  Control\n",
       "63308      63309  242.7.169.4             1         2              0  Control\n",
       "\n",
       "[10000 rows x 6 columns]"
      ]
     },
     "execution_count": 35,
     "metadata": {},
     "output_type": "execute_result"
    }
   ],
   "source": [
    "#choose sample on control\n",
    "sample_data_control = data[data['Group']=='Control'].sample(n = n,\n",
    "                                                              replace = False)\n",
    "#show sample on control\n",
    "sample_data_control"
   ]
  },
  {
   "cell_type": "code",
   "execution_count": 38,
   "metadata": {},
   "outputs": [
    {
     "data": {
      "text/html": [
       "<div>\n",
       "<style scoped>\n",
       "    .dataframe tbody tr th:only-of-type {\n",
       "        vertical-align: middle;\n",
       "    }\n",
       "\n",
       "    .dataframe tbody tr th {\n",
       "        vertical-align: top;\n",
       "    }\n",
       "\n",
       "    .dataframe thead th {\n",
       "        text-align: right;\n",
       "    }\n",
       "</style>\n",
       "<table border=\"1\" class=\"dataframe\">\n",
       "  <thead>\n",
       "    <tr style=\"text-align: right;\">\n",
       "      <th></th>\n",
       "      <th>RecordID</th>\n",
       "      <th>IP Address</th>\n",
       "      <th>LoggedInFlag</th>\n",
       "      <th>ServerID</th>\n",
       "      <th>VisitPageFlag</th>\n",
       "      <th>Group</th>\n",
       "    </tr>\n",
       "  </thead>\n",
       "  <tbody>\n",
       "    <tr>\n",
       "      <th>26601</th>\n",
       "      <td>26602</td>\n",
       "      <td>10.4.140.6</td>\n",
       "      <td>0</td>\n",
       "      <td>1</td>\n",
       "      <td>0</td>\n",
       "      <td>Treatment</td>\n",
       "    </tr>\n",
       "    <tr>\n",
       "      <th>55134</th>\n",
       "      <td>55135</td>\n",
       "      <td>56.14.208.1</td>\n",
       "      <td>0</td>\n",
       "      <td>1</td>\n",
       "      <td>0</td>\n",
       "      <td>Treatment</td>\n",
       "    </tr>\n",
       "    <tr>\n",
       "      <th>168350</th>\n",
       "      <td>168351</td>\n",
       "      <td>185.11.171.3</td>\n",
       "      <td>0</td>\n",
       "      <td>1</td>\n",
       "      <td>1</td>\n",
       "      <td>Treatment</td>\n",
       "    </tr>\n",
       "    <tr>\n",
       "      <th>85390</th>\n",
       "      <td>85391</td>\n",
       "      <td>196.1.96.9</td>\n",
       "      <td>0</td>\n",
       "      <td>1</td>\n",
       "      <td>1</td>\n",
       "      <td>Treatment</td>\n",
       "    </tr>\n",
       "    <tr>\n",
       "      <th>48127</th>\n",
       "      <td>48128</td>\n",
       "      <td>189.8.72.2</td>\n",
       "      <td>1</td>\n",
       "      <td>1</td>\n",
       "      <td>0</td>\n",
       "      <td>Treatment</td>\n",
       "    </tr>\n",
       "    <tr>\n",
       "      <th>...</th>\n",
       "      <td>...</td>\n",
       "      <td>...</td>\n",
       "      <td>...</td>\n",
       "      <td>...</td>\n",
       "      <td>...</td>\n",
       "      <td>...</td>\n",
       "    </tr>\n",
       "    <tr>\n",
       "      <th>183002</th>\n",
       "      <td>183003</td>\n",
       "      <td>251.11.185.9</td>\n",
       "      <td>0</td>\n",
       "      <td>1</td>\n",
       "      <td>0</td>\n",
       "      <td>Treatment</td>\n",
       "    </tr>\n",
       "    <tr>\n",
       "      <th>1831</th>\n",
       "      <td>1832</td>\n",
       "      <td>111.0.9.3</td>\n",
       "      <td>0</td>\n",
       "      <td>1</td>\n",
       "      <td>0</td>\n",
       "      <td>Treatment</td>\n",
       "    </tr>\n",
       "    <tr>\n",
       "      <th>97123</th>\n",
       "      <td>97124</td>\n",
       "      <td>250.2.228.2</td>\n",
       "      <td>0</td>\n",
       "      <td>1</td>\n",
       "      <td>0</td>\n",
       "      <td>Treatment</td>\n",
       "    </tr>\n",
       "    <tr>\n",
       "      <th>126537</th>\n",
       "      <td>126538</td>\n",
       "      <td>235.0.18.6</td>\n",
       "      <td>1</td>\n",
       "      <td>1</td>\n",
       "      <td>0</td>\n",
       "      <td>Treatment</td>\n",
       "    </tr>\n",
       "    <tr>\n",
       "      <th>15634</th>\n",
       "      <td>15635</td>\n",
       "      <td>24.1.9.3</td>\n",
       "      <td>1</td>\n",
       "      <td>1</td>\n",
       "      <td>0</td>\n",
       "      <td>Treatment</td>\n",
       "    </tr>\n",
       "  </tbody>\n",
       "</table>\n",
       "<p>10000 rows × 6 columns</p>\n",
       "</div>"
      ],
      "text/plain": [
       "        RecordID    IP Address  LoggedInFlag  ServerID  VisitPageFlag  \\\n",
       "26601      26602    10.4.140.6             0         1              0   \n",
       "55134      55135   56.14.208.1             0         1              0   \n",
       "168350    168351  185.11.171.3             0         1              1   \n",
       "85390      85391    196.1.96.9             0         1              1   \n",
       "48127      48128    189.8.72.2             1         1              0   \n",
       "...          ...           ...           ...       ...            ...   \n",
       "183002    183003  251.11.185.9             0         1              0   \n",
       "1831        1832     111.0.9.3             0         1              0   \n",
       "97123      97124   250.2.228.2             0         1              0   \n",
       "126537    126538    235.0.18.6             1         1              0   \n",
       "15634      15635      24.1.9.3             1         1              0   \n",
       "\n",
       "            Group  \n",
       "26601   Treatment  \n",
       "55134   Treatment  \n",
       "168350  Treatment  \n",
       "85390   Treatment  \n",
       "48127   Treatment  \n",
       "...           ...  \n",
       "183002  Treatment  \n",
       "1831    Treatment  \n",
       "97123   Treatment  \n",
       "126537  Treatment  \n",
       "15634   Treatment  \n",
       "\n",
       "[10000 rows x 6 columns]"
      ]
     },
     "execution_count": 38,
     "metadata": {},
     "output_type": "execute_result"
    }
   ],
   "source": [
    "#choose sample on treatment\n",
    "sample_data_treatment = data[data['Group']=='Treatment'].sample(n = n,\n",
    "                                                              replace = False)\n",
    "#show sample on treatment\n",
    "sample_data_treatment"
   ]
  },
  {
   "attachments": {},
   "cell_type": "markdown",
   "metadata": {},
   "source": [
    "Calculate Click-Through-Rate"
   ]
  },
  {
   "attachments": {},
   "cell_type": "markdown",
   "metadata": {},
   "source": [
    "<center>\n",
    "\n",
    "|Group|#User|#CTR|CTR Rate\n",
    "|:--|:--:|:--:|:--:|\n",
    "|Control|10.000|-|-|\n",
    "|Treatment|10.000|-|-|\n",
    "\n",
    "</center>"
   ]
  },
  {
   "cell_type": "code",
   "execution_count": 43,
   "metadata": {},
   "outputs": [
    {
     "data": {
      "text/plain": [
       "525"
      ]
     },
     "execution_count": 43,
     "metadata": {},
     "output_type": "execute_result"
    }
   ],
   "source": [
    "#find control group that is CTR\n",
    "data_control_ctr = sample_data_control[(sample_data_control['VisitPageFlag'] == 1)]\n",
    "\n",
    "#length of CTR on control group\n",
    "n_control_ctr = len(data_control_ctr)\n",
    "n_control_ctr"
   ]
  },
  {
   "cell_type": "code",
   "execution_count": 46,
   "metadata": {},
   "outputs": [
    {
     "data": {
      "text/plain": [
       "710"
      ]
     },
     "execution_count": 46,
     "metadata": {},
     "output_type": "execute_result"
    }
   ],
   "source": [
    "#find treatment group that is CTR\n",
    "data_treatment_ctr = sample_data_treatment[(sample_data_treatment['VisitPageFlag'] == 1)]\n",
    "\n",
    "#length of CTR on treatment group\n",
    "n_treatment_ctr = len(data_treatment_ctr)\n",
    "n_treatment_ctr"
   ]
  },
  {
   "cell_type": "code",
   "execution_count": 65,
   "metadata": {},
   "outputs": [
    {
     "data": {
      "text/html": [
       "<div>\n",
       "<style scoped>\n",
       "    .dataframe tbody tr th:only-of-type {\n",
       "        vertical-align: middle;\n",
       "    }\n",
       "\n",
       "    .dataframe tbody tr th {\n",
       "        vertical-align: top;\n",
       "    }\n",
       "\n",
       "    .dataframe thead th {\n",
       "        text-align: right;\n",
       "    }\n",
       "</style>\n",
       "<table border=\"1\" class=\"dataframe\">\n",
       "  <thead>\n",
       "    <tr style=\"text-align: right;\">\n",
       "      <th>VisitPageFlag</th>\n",
       "      <th>0</th>\n",
       "      <th>1</th>\n",
       "      <th>All</th>\n",
       "    </tr>\n",
       "    <tr>\n",
       "      <th>Group</th>\n",
       "      <th></th>\n",
       "      <th></th>\n",
       "      <th></th>\n",
       "    </tr>\n",
       "  </thead>\n",
       "  <tbody>\n",
       "    <tr>\n",
       "      <th>Control</th>\n",
       "      <td>9475</td>\n",
       "      <td>525</td>\n",
       "      <td>10000</td>\n",
       "    </tr>\n",
       "    <tr>\n",
       "      <th>Treatment</th>\n",
       "      <td>9290</td>\n",
       "      <td>710</td>\n",
       "      <td>10000</td>\n",
       "    </tr>\n",
       "    <tr>\n",
       "      <th>All</th>\n",
       "      <td>18765</td>\n",
       "      <td>1235</td>\n",
       "      <td>20000</td>\n",
       "    </tr>\n",
       "  </tbody>\n",
       "</table>\n",
       "</div>"
      ],
      "text/plain": [
       "VisitPageFlag      0     1    All\n",
       "Group                            \n",
       "Control         9475   525  10000\n",
       "Treatment       9290   710  10000\n",
       "All            18765  1235  20000"
      ]
     },
     "execution_count": 65,
     "metadata": {},
     "output_type": "execute_result"
    }
   ],
   "source": [
    "#merge sample data control and treatment\n",
    "data_sample = pd.concat([sample_data_control, sample_data_treatment], ignore_index=True)\n",
    "\n",
    "#comparing the Control and Treatment Group on VisitPageFlag\n",
    "group_with_visitPage = pd.crosstab(data_sample['Group'], data_sample['VisitPageFlag'], margins=True)\n",
    "group_with_visitPage"
   ]
  },
  {
   "cell_type": "code",
   "execution_count": 71,
   "metadata": {},
   "outputs": [
    {
     "data": {
      "text/plain": [
       "Text(0, 0.5, 'Frequency')"
      ]
     },
     "execution_count": 71,
     "metadata": {},
     "output_type": "execute_result"
    },
    {
     "data": {
      "image/png": "[encoded data removed]",
      "text/plain": [
       "<Figure size 1000x700 with 1 Axes>"
      ]
     },
     "metadata": {},
     "output_type": "display_data"
    }
   ],
   "source": [
    "#Make histogram on data_sample\n",
    "#bins = 10\n",
    "fig, ax = plt.subplots(figsize =(10, 7))\n",
    "ax.hist(data_sample['VisitPageFlag'],bins=10)\n",
    " \n",
    "# Show plot\n",
    "plt.xlabel('VisitPageFlag')\n",
    "plt.ylabel('Frequency')"
   ]
  },
  {
   "attachments": {},
   "cell_type": "markdown",
   "metadata": {},
   "source": [
    "Finally, calculate CTR on each group"
   ]
  },
  {
   "cell_type": "code",
   "execution_count": 72,
   "metadata": {},
   "outputs": [
    {
     "data": {
      "text/plain": [
       "0.0525"
      ]
     },
     "execution_count": 72,
     "metadata": {},
     "output_type": "execute_result"
    }
   ],
   "source": [
    "#CTR control group\n",
    "ctr_control = n_control_ctr / n\n",
    "ctr_control"
   ]
  },
  {
   "cell_type": "code",
   "execution_count": 74,
   "metadata": {},
   "outputs": [
    {
     "data": {
      "text/plain": [
       "0.071"
      ]
     },
     "execution_count": 74,
     "metadata": {},
     "output_type": "execute_result"
    }
   ],
   "source": [
    "#CTR treatment group\n",
    "ctr_treatment = n_treatment_ctr / n\n",
    "ctr_treatment"
   ]
  },
  {
   "cell_type": "markdown",
   "metadata": {},
   "source": [
    "<center>\n",
    "\n",
    "|Group|#User|#CTR|CTR Rate\n",
    "|:--|:--:|:--:|:--:|\n",
    "|Control|10.000|525|0.0525|\n",
    "|Treatment|10.000|710|0.071|\n",
    "\n",
    "</center>"
   ]
  },
  {
   "attachments": {},
   "cell_type": "markdown",
   "metadata": {},
   "source": [
    "On Visualization"
   ]
  },
  {
   "cell_type": "code",
   "execution_count": 75,
   "metadata": {},
   "outputs": [
    {
     "name": "stderr",
     "output_type": "stream",
     "text": [
      "C:\\Users\\UYUN\\AppData\\Local\\Temp\\ipykernel_12304\\3857991313.py:11: UserWarning: FixedFormatter should only be used together with FixedLocator\n",
      "  ax.set_xticklabels(labels=[\"Control\", \"Treatment\"], fontsize=14)\n"
     ]
    },
    {
     "data": {
      "image/png": "[encoded data removed]",
      "text/plain": [
       "<Figure size 1000x700 with 1 Axes>"
      ]
     },
     "metadata": {},
     "output_type": "display_data"
    }
   ],
   "source": [
    "#compare visualization CTR each variant\n",
    "fig, ax = plt.subplots(nrows=1, ncols=1, figsize=(10,7))\n",
    "\n",
    "#make plot\n",
    "ax.bar(\"Control\", ctr_control, color=\"peru\", label=\"Control\")\n",
    "ax.bar(\"Treatment\", ctr_treatment, color=\"brown\", label=\"Treatment\")\n",
    "\n",
    "#styling plot\n",
    "ax.set_ylabel(\"Click-Through-Rate\", fontsize=14)\n",
    "ax.set_xlabel(\"Group\", fontsize=14)\n",
    "ax.set_xticklabels(labels=[\"Control\", \"Treatment\"], fontsize=14)\n",
    "ax.legend(fontsize=16)\n",
    "plt.show()"
   ]
  },
  {
   "attachments": {},
   "cell_type": "markdown",
   "metadata": {},
   "source": [
    "#### Sample Ratio Mismatch (SRM)\n",
    "\n",
    "We will detect the SRM using chi-square test"
   ]
  },
  {
   "attachments": {},
   "cell_type": "markdown",
   "metadata": {},
   "source": [
    "*Pre-Analysis*\n",
    "\n",
    "- Before doing the chi-square test, let's fill in the following table to make it easier to detect the presence of SRM.\n",
    "\n",
    "<center>\n",
    "\n",
    "|Group|#User|#CTR|CTR Rate|Percentage|\n",
    "|:--|:--:|:--:|:--:|:--:|\n",
    "|Control|10.000|525|0.0525|-|\n",
    "|Treatment|10.000|710|0.071|-|\n",
    "\n",
    "</center>\n",
    "\n",
    "* Percentage is the percentage of sample size in each group"
   ]
  },
  {
   "cell_type": "code",
   "execution_count": 96,
   "metadata": {},
   "outputs": [
    {
     "data": {
      "text/plain": [
       "10000"
      ]
     },
     "execution_count": 96,
     "metadata": {},
     "output_type": "execute_result"
    }
   ],
   "source": [
    "# Number of users in the control group\n",
    "n_control = sample_data_control.shape[0]\n",
    "\n",
    "n_control"
   ]
  },
  {
   "cell_type": "code",
   "execution_count": 97,
   "metadata": {},
   "outputs": [
    {
     "data": {
      "text/plain": [
       "10000"
      ]
     },
     "execution_count": 97,
     "metadata": {},
     "output_type": "execute_result"
    }
   ],
   "source": [
    "# Number of users in the treatment group\n",
    "n_treatment = sample_data_treatment.shape[0]\n",
    "\n",
    "n_treatment"
   ]
  },
  {
   "cell_type": "code",
   "execution_count": 99,
   "metadata": {},
   "outputs": [
    {
     "name": "stdout",
     "output_type": "stream",
     "text": [
      "% control   : 50.00%\n",
      "% treatment : 50.00%\n"
     ]
    }
   ],
   "source": [
    "# Percentage in each group\n",
    "n_total = data_sample.shape[0]\n",
    "persen_control = n_control/n_total * 100\n",
    "persen_treat = n_treatment/n_total * 100\n",
    "\n",
    "print(f\"% control   : {persen_control:.2f}%\")\n",
    "print(f\"% treatment : {persen_treat:.2f}%\")"
   ]
  },
  {
   "attachments": {},
   "cell_type": "markdown",
   "metadata": {},
   "source": [
    "- We get\n",
    "<center>\n",
    "\n",
    "|Group|#User|#CTR|CTR Rate|Percentage|\n",
    "|:--|:--:|:--:|:--:|:--:|\n",
    "|Control|10.000|525|0.0525|50.00%|\n",
    "|Treatment|10.000|710|0.071|50.00%|\n",
    "\n",
    "</center>"
   ]
  },
  {
   "attachments": {},
   "cell_type": "markdown",
   "metadata": {},
   "source": [
    "#### Chi-Square Test for Detect SRM\n",
    "\n",
    "The steps for doing a chi-square test in order to detect SRM are:"
   ]
  },
  {
   "attachments": {},
   "cell_type": "markdown",
   "metadata": {},
   "source": [
    "**1. Define the null and alternative hypothesis ($H_0$ and $H_1$)**\n",
    "\n",
    "$H_0$  : No SRM detected\n",
    "\n",
    "$H_1$  : SRM detected"
   ]
  },
  {
   "attachments": {},
   "cell_type": "markdown",
   "metadata": {},
   "source": [
    "**2. Calculate chi-square statistics**\n",
    "\n",
    "$$ \\chi^2 = \\sum \\frac{\\left ( \\text{observed - expected} \\right )^2}{\\text{expected}} $$\n",
    "\n",
    "Where :\n",
    "- Observed: the control and variation traffic volumes (sample size), respectively\n",
    "- Expected: the expected values for control and treatment — i.e. the total observed divided by 2"
   ]
  },
  {
   "attachments": {},
   "cell_type": "markdown",
   "metadata": {},
   "source": [
    "Observed is the same as #user in each group.\n",
    "\n",
    "For calculate expexted in each group, we can use total observed divided by 2"
   ]
  },
  {
   "cell_type": "code",
   "execution_count": 100,
   "metadata": {},
   "outputs": [],
   "source": [
    "observed = [n_control, n_treatment]\n",
    "total_traffic= sum(observed)\n",
    "expected = [ total_traffic/2, total_traffic/2 ]"
   ]
  },
  {
   "attachments": {},
   "cell_type": "markdown",
   "metadata": {},
   "source": [
    "Then we can calculate the chi-square statistics using the function in the `scipy` library, namely `chisquare` with steps: \n",
    "\n",
    "1. import library\n",
    "    - from scipy.stats import chisquare\n",
    "2. Use the function `chisquare(f_obs, f_exp=...)`\n",
    "    - `f_obs`: Observed frequencies in each category (array)\n",
    "    - `f_exp`: Expected frequencies in each category. By default the categories are assumed to be equally likely."
   ]
  },
  {
   "cell_type": "code",
   "execution_count": 101,
   "metadata": {},
   "outputs": [
    {
     "name": "stdout",
     "output_type": "stream",
     "text": [
      "Power_divergenceResult(statistic=0.0, pvalue=1.0)\n"
     ]
    }
   ],
   "source": [
    "#calculate chi-square statistics\n",
    "from scipy.stats import chisquare\n",
    "chi = chisquare(observed, f_exp=expected)\n",
    "print(chi)"
   ]
  },
  {
   "attachments": {},
   "cell_type": "markdown",
   "metadata": {},
   "source": [
    "**3. Define decision rules**"
   ]
  },
  {
   "attachments": {},
   "cell_type": "markdown",
   "metadata": {},
   "source": [
    "In making statistical test decisions, we can use:\n",
    "- Comparison of chi-square statistics with critical value\n",
    "     -  $\\chi^2 > \\chi^2_{\\alpha,df}$ → reject $H_0$\n",
    "\n",
    "- Comparison of p-value with alpha\n",
    "   - pvalue < $\\alpha$ → reject $H_0$\n",
    "\n",
    "\n",
    "Normally, one would look for a p-value of 0.05 or less to proof of SRM. The problem with 0.05 is that it’s not strict enough for our purposes. Using this might give us a false signal. What we need is to be stricter for our test. So we use significance level 1%.\n",
    "\n",
    "degree of freedom (df) is calculated as: \n",
    "$$ df = (rows − 1) × (columns − 1) $$ \n"
   ]
  },
  {
   "cell_type": "code",
   "execution_count": 102,
   "metadata": {},
   "outputs": [
    {
     "name": "stdout",
     "output_type": "stream",
     "text": [
      "Critical value: 3.841\n"
     ]
    }
   ],
   "source": [
    "# Comparison of chi-square statistics with critical value\n",
    "# We must calculate the critical first\n",
    "\n",
    "# critical value is the chi-square value at alpha\n",
    "alpha = 0.05\n",
    "df=(2-1)*(2-1)  \n",
    "\n",
    "import scipy\n",
    "chi_critical = scipy.stats.chi2.ppf(1 - alpha, df)\n",
    "print(f\"Critical value: {chi_critical:.3f}\")"
   ]
  },
  {
   "cell_type": "code",
   "execution_count": 103,
   "metadata": {},
   "outputs": [
    {
     "name": "stdout",
     "output_type": "stream",
     "text": [
      "Fail to reject H0 : No SRM\n"
     ]
    }
   ],
   "source": [
    "#Make decisions from chi-square statistics and critical value\n",
    "if chi[0] > chi_critical:\n",
    "  print(\"Reject H0 : SRM may be present.\")\n",
    "else:\n",
    "  print(\"Fail to reject H0 : No SRM\")"
   ]
  },
  {
   "cell_type": "code",
   "execution_count": 104,
   "metadata": {},
   "outputs": [
    {
     "name": "stdout",
     "output_type": "stream",
     "text": [
      "Fail to reject H0 : No SRM.\n"
     ]
    }
   ],
   "source": [
    "# Comparison of P-Value with alpha.\n",
    "if chi[1] < 0.01:\n",
    "    print('Reject H0 : SRM may be present.')\n",
    "else:\n",
    "    print('Fail to reject H0 : No SRM.')"
   ]
  },
  {
   "attachments": {},
   "cell_type": "markdown",
   "metadata": {},
   "source": [
    "Based on the detection of SRM, SRM was not detected."
   ]
  },
  {
   "cell_type": "markdown",
   "metadata": {},
   "source": []
  },
  {
   "attachments": {},
   "cell_type": "markdown",
   "metadata": {},
   "source": [
    "#"
   ]
  }
 ],
 "metadata": {
  "kernelspec": {
   "display_name": "base",
   "language": "python",
   "name": "python3"
  },
  "language_info": {
   "codemirror_mode": {
    "name": "ipython",
    "version": 3
   },
   "file_extension": ".py",
   "mimetype": "text/x-python",
   "name": "python",
   "nbconvert_exporter": "python",
   "pygments_lexer": "ipython3",
   "version": "3.9.13"
  },
  "orig_nbformat": 4
 },
 "nbformat": 4,
 "nbformat_minor": 2
}
