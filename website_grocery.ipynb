{
 "cells": [
  {
   "attachments": {},
   "cell_type": "markdown",
   "metadata": {},
   "source": [
    "# **Website of The Grocery Store Chain**\n",
    "___________________________\n"
   ]
  },
  {
   "attachments": {},
   "cell_type": "markdown",
   "metadata": {},
   "source": [
    "### **Experimentation and A/B Testing Project**\n",
    "- You are an analyst for a large grocery chain.\n",
    "- One of your company’s goals is to drive more customers to download our mobile app and register for the loyalty program.\n",
    "- Your manager is curious if changing the link to a button of the app store will improve the user’s ability to download the app.\n",
    "- Your manager asks you to create an A/B testing plan for changing the link to a button of the app store with the expectation it will the user’s interest to download the app."
   ]
  },
  {
   "attachments": {},
   "cell_type": "markdown",
   "metadata": {},
   "source": [
    "### **Data Quality**"
   ]
  },
  {
   "attachments": {},
   "cell_type": "markdown",
   "metadata": {},
   "source": [
    "#### Import Data"
   ]
  },
  {
   "attachments": {},
   "cell_type": "markdown",
   "metadata": {},
   "source": [
    "First, we must import the data.\n",
    "- Grocery website is stord in `.csv` named `grocerywebsiteabtestdata.csv`\n",
    "- Import data into python with `pd.read_csv(...)` to start analysis"
   ]
  },
  {
   "cell_type": "code",
   "execution_count": 50,
   "metadata": {},
   "outputs": [],
   "source": [
    "#load data\n",
    "import pandas as pd\n",
    "import numpy as np\n",
    "\n",
    "#visualization\n",
    "import matplotlib.pyplot as plt\n",
    "\n",
    "#stats\n",
    "from scipy import stats"
   ]
  },
  {
   "cell_type": "code",
   "execution_count": 51,
   "metadata": {},
   "outputs": [
    {
     "data": {
      "text/html": [
       "<div>\n",
       "<style scoped>\n",
       "    .dataframe tbody tr th:only-of-type {\n",
       "        vertical-align: middle;\n",
       "    }\n",
       "\n",
       "    .dataframe tbody tr th {\n",
       "        vertical-align: top;\n",
       "    }\n",
       "\n",
       "    .dataframe thead th {\n",
       "        text-align: right;\n",
       "    }\n",
       "</style>\n",
       "<table border=\"1\" class=\"dataframe\">\n",
       "  <thead>\n",
       "    <tr style=\"text-align: right;\">\n",
       "      <th></th>\n",
       "      <th>RecordID</th>\n",
       "      <th>IP Address</th>\n",
       "      <th>LoggedInFlag</th>\n",
       "      <th>ServerID</th>\n",
       "      <th>VisitPageFlag</th>\n",
       "    </tr>\n",
       "  </thead>\n",
       "  <tbody>\n",
       "    <tr>\n",
       "      <th>0</th>\n",
       "      <td>1</td>\n",
       "      <td>39.13.114.2</td>\n",
       "      <td>1</td>\n",
       "      <td>2</td>\n",
       "      <td>0</td>\n",
       "    </tr>\n",
       "    <tr>\n",
       "      <th>1</th>\n",
       "      <td>2</td>\n",
       "      <td>13.3.25.8</td>\n",
       "      <td>1</td>\n",
       "      <td>1</td>\n",
       "      <td>0</td>\n",
       "    </tr>\n",
       "    <tr>\n",
       "      <th>2</th>\n",
       "      <td>3</td>\n",
       "      <td>247.8.211.8</td>\n",
       "      <td>1</td>\n",
       "      <td>1</td>\n",
       "      <td>0</td>\n",
       "    </tr>\n",
       "    <tr>\n",
       "      <th>3</th>\n",
       "      <td>4</td>\n",
       "      <td>124.8.220.3</td>\n",
       "      <td>0</td>\n",
       "      <td>3</td>\n",
       "      <td>0</td>\n",
       "    </tr>\n",
       "    <tr>\n",
       "      <th>4</th>\n",
       "      <td>5</td>\n",
       "      <td>60.10.192.7</td>\n",
       "      <td>0</td>\n",
       "      <td>2</td>\n",
       "      <td>0</td>\n",
       "    </tr>\n",
       "    <tr>\n",
       "      <th>5</th>\n",
       "      <td>6</td>\n",
       "      <td>23.5.199.2</td>\n",
       "      <td>1</td>\n",
       "      <td>3</td>\n",
       "      <td>0</td>\n",
       "    </tr>\n",
       "    <tr>\n",
       "      <th>6</th>\n",
       "      <td>7</td>\n",
       "      <td>195.12.126.2</td>\n",
       "      <td>1</td>\n",
       "      <td>1</td>\n",
       "      <td>0</td>\n",
       "    </tr>\n",
       "    <tr>\n",
       "      <th>7</th>\n",
       "      <td>8</td>\n",
       "      <td>97.6.126.6</td>\n",
       "      <td>0</td>\n",
       "      <td>3</td>\n",
       "      <td>1</td>\n",
       "    </tr>\n",
       "    <tr>\n",
       "      <th>8</th>\n",
       "      <td>9</td>\n",
       "      <td>93.10.165.4</td>\n",
       "      <td>1</td>\n",
       "      <td>1</td>\n",
       "      <td>0</td>\n",
       "    </tr>\n",
       "    <tr>\n",
       "      <th>9</th>\n",
       "      <td>10</td>\n",
       "      <td>180.3.76.4</td>\n",
       "      <td>1</td>\n",
       "      <td>1</td>\n",
       "      <td>0</td>\n",
       "    </tr>\n",
       "  </tbody>\n",
       "</table>\n",
       "</div>"
      ],
      "text/plain": [
       "   RecordID    IP Address  LoggedInFlag  ServerID  VisitPageFlag\n",
       "0         1   39.13.114.2             1         2              0\n",
       "1         2     13.3.25.8             1         1              0\n",
       "2         3   247.8.211.8             1         1              0\n",
       "3         4   124.8.220.3             0         3              0\n",
       "4         5   60.10.192.7             0         2              0\n",
       "5         6    23.5.199.2             1         3              0\n",
       "6         7  195.12.126.2             1         1              0\n",
       "7         8    97.6.126.6             0         3              1\n",
       "8         9   93.10.165.4             1         1              0\n",
       "9        10    180.3.76.4             1         1              0"
      ]
     },
     "execution_count": 51,
     "metadata": {},
     "output_type": "execute_result"
    }
   ],
   "source": [
    "#initialization filename\n",
    "filename = \"grocerywebsiteabtestdata.csv\"\n",
    "\n",
    "#import data\n",
    "data = pd.read_csv(filename)\n",
    "\n",
    "#display 10 top rows of the data\n",
    "data.head(10)"
   ]
  },
  {
   "attachments": {},
   "cell_type": "markdown",
   "metadata": {},
   "source": [
    "- There are 5 column (`RecordID`, `IP Address`, `LoggedInFlag`, `ServerID`, `VisitPageFlag`)\n",
    "- `RecordID` : identifier of the row of data\n",
    "- `IP Address` : address of the user, who is visiting website\n",
    "- `LoggedInFlag` : 1 - when user has an account and logged in\n",
    "- `ServerID` : one of the servers user was routed through\n",
    "- `VisitPageFlag` : 1 - when user clicked on the loyalty program page"
   ]
  },
  {
   "cell_type": "code",
   "execution_count": 52,
   "metadata": {},
   "outputs": [
    {
     "name": "stdout",
     "output_type": "stream",
     "text": [
      "<class 'pandas.core.frame.DataFrame'>\n",
      "RangeIndex: 184588 entries, 0 to 184587\n",
      "Data columns (total 5 columns):\n",
      " #   Column         Non-Null Count   Dtype \n",
      "---  ------         --------------   ----- \n",
      " 0   RecordID       184588 non-null  int64 \n",
      " 1   IP Address     184588 non-null  object\n",
      " 2   LoggedInFlag   184588 non-null  int64 \n",
      " 3   ServerID       184588 non-null  int64 \n",
      " 4   VisitPageFlag  184588 non-null  int64 \n",
      "dtypes: int64(4), object(1)\n",
      "memory usage: 7.0+ MB\n"
     ]
    }
   ],
   "source": [
    "#overview data\n",
    "data.info()"
   ]
  },
  {
   "cell_type": "code",
   "execution_count": 53,
   "metadata": {},
   "outputs": [
    {
     "data": {
      "text/plain": [
       "(184588, 5)"
      ]
     },
     "execution_count": 53,
     "metadata": {},
     "output_type": "execute_result"
    }
   ],
   "source": [
    "#dimension of data\n",
    "data.shape"
   ]
  },
  {
   "cell_type": "code",
   "execution_count": 54,
   "metadata": {},
   "outputs": [
    {
     "data": {
      "text/html": [
       "<div>\n",
       "<style scoped>\n",
       "    .dataframe tbody tr th:only-of-type {\n",
       "        vertical-align: middle;\n",
       "    }\n",
       "\n",
       "    .dataframe tbody tr th {\n",
       "        vertical-align: top;\n",
       "    }\n",
       "\n",
       "    .dataframe thead th {\n",
       "        text-align: right;\n",
       "    }\n",
       "</style>\n",
       "<table border=\"1\" class=\"dataframe\">\n",
       "  <thead>\n",
       "    <tr style=\"text-align: right;\">\n",
       "      <th></th>\n",
       "      <th>RecordID</th>\n",
       "      <th>LoggedInFlag</th>\n",
       "      <th>ServerID</th>\n",
       "      <th>VisitPageFlag</th>\n",
       "    </tr>\n",
       "  </thead>\n",
       "  <tbody>\n",
       "    <tr>\n",
       "      <th>count</th>\n",
       "      <td>184588.000000</td>\n",
       "      <td>184588.000000</td>\n",
       "      <td>184588.000000</td>\n",
       "      <td>184588.000000</td>\n",
       "    </tr>\n",
       "    <tr>\n",
       "      <th>mean</th>\n",
       "      <td>92294.500000</td>\n",
       "      <td>0.503657</td>\n",
       "      <td>1.999691</td>\n",
       "      <td>0.058184</td>\n",
       "    </tr>\n",
       "    <tr>\n",
       "      <th>std</th>\n",
       "      <td>53286.110082</td>\n",
       "      <td>0.499988</td>\n",
       "      <td>0.816719</td>\n",
       "      <td>0.234091</td>\n",
       "    </tr>\n",
       "    <tr>\n",
       "      <th>min</th>\n",
       "      <td>1.000000</td>\n",
       "      <td>0.000000</td>\n",
       "      <td>1.000000</td>\n",
       "      <td>0.000000</td>\n",
       "    </tr>\n",
       "    <tr>\n",
       "      <th>25%</th>\n",
       "      <td>46147.750000</td>\n",
       "      <td>0.000000</td>\n",
       "      <td>1.000000</td>\n",
       "      <td>0.000000</td>\n",
       "    </tr>\n",
       "    <tr>\n",
       "      <th>50%</th>\n",
       "      <td>92294.500000</td>\n",
       "      <td>1.000000</td>\n",
       "      <td>2.000000</td>\n",
       "      <td>0.000000</td>\n",
       "    </tr>\n",
       "    <tr>\n",
       "      <th>75%</th>\n",
       "      <td>138441.250000</td>\n",
       "      <td>1.000000</td>\n",
       "      <td>3.000000</td>\n",
       "      <td>0.000000</td>\n",
       "    </tr>\n",
       "    <tr>\n",
       "      <th>max</th>\n",
       "      <td>184588.000000</td>\n",
       "      <td>1.000000</td>\n",
       "      <td>3.000000</td>\n",
       "      <td>1.000000</td>\n",
       "    </tr>\n",
       "  </tbody>\n",
       "</table>\n",
       "</div>"
      ],
      "text/plain": [
       "            RecordID   LoggedInFlag       ServerID  VisitPageFlag\n",
       "count  184588.000000  184588.000000  184588.000000  184588.000000\n",
       "mean    92294.500000       0.503657       1.999691       0.058184\n",
       "std     53286.110082       0.499988       0.816719       0.234091\n",
       "min         1.000000       0.000000       1.000000       0.000000\n",
       "25%     46147.750000       0.000000       1.000000       0.000000\n",
       "50%     92294.500000       1.000000       2.000000       0.000000\n",
       "75%    138441.250000       1.000000       3.000000       0.000000\n",
       "max    184588.000000       1.000000       3.000000       1.000000"
      ]
     },
     "execution_count": 54,
     "metadata": {},
     "output_type": "execute_result"
    }
   ],
   "source": [
    "data.describe()"
   ]
  },
  {
   "attachments": {},
   "cell_type": "markdown",
   "metadata": {},
   "source": [
    "#### Missing Value"
   ]
  },
  {
   "cell_type": "code",
   "execution_count": 55,
   "metadata": {},
   "outputs": [
    {
     "data": {
      "text/plain": [
       "RecordID         0\n",
       "IP Address       0\n",
       "LoggedInFlag     0\n",
       "ServerID         0\n",
       "VisitPageFlag    0\n",
       "dtype: int64"
      ]
     },
     "execution_count": 55,
     "metadata": {},
     "output_type": "execute_result"
    }
   ],
   "source": [
    "#checking missing value\n",
    "data.isna().sum()"
   ]
  },
  {
   "attachments": {},
   "cell_type": "markdown",
   "metadata": {},
   "source": [
    "- There is no missing value."
   ]
  },
  {
   "attachments": {},
   "cell_type": "markdown",
   "metadata": {},
   "source": [
    "#### Uniqueness"
   ]
  },
  {
   "attachments": {},
   "cell_type": "markdown",
   "metadata": {},
   "source": [
    "An IP Address may have visited the page more than once. So, we must to check duplicate data on IP Address."
   ]
  },
  {
   "cell_type": "code",
   "execution_count": 56,
   "metadata": {},
   "outputs": [
    {
     "data": {
      "text/plain": [
       "85072"
      ]
     },
     "execution_count": 56,
     "metadata": {},
     "output_type": "execute_result"
    }
   ],
   "source": [
    "#checking duplicate data \n",
    "data.duplicated(['IP Address']).sum()"
   ]
  },
  {
   "cell_type": "code",
   "execution_count": 57,
   "metadata": {},
   "outputs": [
    {
     "data": {
      "text/plain": [
       "(99516, 5)"
      ]
     },
     "execution_count": 57,
     "metadata": {},
     "output_type": "execute_result"
    }
   ],
   "source": [
    "#droping duplicates data\n",
    "data.drop_duplicates(subset='IP Address', inplace=True)\n",
    "data.shape"
   ]
  },
  {
   "attachments": {},
   "cell_type": "markdown",
   "metadata": {},
   "source": [
    "- Now, we have 99516 total records with no duplicates and data ready for analysis."
   ]
  },
  {
   "cell_type": "code",
   "execution_count": 58,
   "metadata": {},
   "outputs": [
    {
     "data": {
      "text/html": [
       "<div>\n",
       "<style scoped>\n",
       "    .dataframe tbody tr th:only-of-type {\n",
       "        vertical-align: middle;\n",
       "    }\n",
       "\n",
       "    .dataframe tbody tr th {\n",
       "        vertical-align: top;\n",
       "    }\n",
       "\n",
       "    .dataframe thead th {\n",
       "        text-align: right;\n",
       "    }\n",
       "</style>\n",
       "<table border=\"1\" class=\"dataframe\">\n",
       "  <thead>\n",
       "    <tr style=\"text-align: right;\">\n",
       "      <th></th>\n",
       "      <th>RecordID</th>\n",
       "      <th>IP Address</th>\n",
       "      <th>LoggedInFlag</th>\n",
       "      <th>ServerID</th>\n",
       "      <th>VisitPageFlag</th>\n",
       "    </tr>\n",
       "  </thead>\n",
       "  <tbody>\n",
       "    <tr>\n",
       "      <th>0</th>\n",
       "      <td>1</td>\n",
       "      <td>39.13.114.2</td>\n",
       "      <td>1</td>\n",
       "      <td>2</td>\n",
       "      <td>0</td>\n",
       "    </tr>\n",
       "    <tr>\n",
       "      <th>1</th>\n",
       "      <td>2</td>\n",
       "      <td>13.3.25.8</td>\n",
       "      <td>1</td>\n",
       "      <td>1</td>\n",
       "      <td>0</td>\n",
       "    </tr>\n",
       "    <tr>\n",
       "      <th>2</th>\n",
       "      <td>3</td>\n",
       "      <td>247.8.211.8</td>\n",
       "      <td>1</td>\n",
       "      <td>1</td>\n",
       "      <td>0</td>\n",
       "    </tr>\n",
       "    <tr>\n",
       "      <th>3</th>\n",
       "      <td>4</td>\n",
       "      <td>124.8.220.3</td>\n",
       "      <td>0</td>\n",
       "      <td>3</td>\n",
       "      <td>0</td>\n",
       "    </tr>\n",
       "    <tr>\n",
       "      <th>4</th>\n",
       "      <td>5</td>\n",
       "      <td>60.10.192.7</td>\n",
       "      <td>0</td>\n",
       "      <td>2</td>\n",
       "      <td>0</td>\n",
       "    </tr>\n",
       "    <tr>\n",
       "      <th>5</th>\n",
       "      <td>6</td>\n",
       "      <td>23.5.199.2</td>\n",
       "      <td>1</td>\n",
       "      <td>3</td>\n",
       "      <td>0</td>\n",
       "    </tr>\n",
       "    <tr>\n",
       "      <th>6</th>\n",
       "      <td>7</td>\n",
       "      <td>195.12.126.2</td>\n",
       "      <td>1</td>\n",
       "      <td>1</td>\n",
       "      <td>0</td>\n",
       "    </tr>\n",
       "    <tr>\n",
       "      <th>7</th>\n",
       "      <td>8</td>\n",
       "      <td>97.6.126.6</td>\n",
       "      <td>0</td>\n",
       "      <td>3</td>\n",
       "      <td>1</td>\n",
       "    </tr>\n",
       "    <tr>\n",
       "      <th>8</th>\n",
       "      <td>9</td>\n",
       "      <td>93.10.165.4</td>\n",
       "      <td>1</td>\n",
       "      <td>1</td>\n",
       "      <td>0</td>\n",
       "    </tr>\n",
       "    <tr>\n",
       "      <th>9</th>\n",
       "      <td>10</td>\n",
       "      <td>180.3.76.4</td>\n",
       "      <td>1</td>\n",
       "      <td>1</td>\n",
       "      <td>0</td>\n",
       "    </tr>\n",
       "  </tbody>\n",
       "</table>\n",
       "</div>"
      ],
      "text/plain": [
       "   RecordID    IP Address  LoggedInFlag  ServerID  VisitPageFlag\n",
       "0         1   39.13.114.2             1         2              0\n",
       "1         2     13.3.25.8             1         1              0\n",
       "2         3   247.8.211.8             1         1              0\n",
       "3         4   124.8.220.3             0         3              0\n",
       "4         5   60.10.192.7             0         2              0\n",
       "5         6    23.5.199.2             1         3              0\n",
       "6         7  195.12.126.2             1         1              0\n",
       "7         8    97.6.126.6             0         3              1\n",
       "8         9   93.10.165.4             1         1              0\n",
       "9        10    180.3.76.4             1         1              0"
      ]
     },
     "execution_count": 58,
     "metadata": {},
     "output_type": "execute_result"
    }
   ],
   "source": [
    "#display 10 top rows of the data\n",
    "data.head(10)"
   ]
  },
  {
   "attachments": {},
   "cell_type": "markdown",
   "metadata": {},
   "source": [
    "#### Distribution of Data"
   ]
  },
  {
   "attachments": {},
   "cell_type": "markdown",
   "metadata": {},
   "source": [
    "Split the dataset into `Control` and `Treatment` groups."
   ]
  },
  {
   "cell_type": "code",
   "execution_count": 59,
   "metadata": {},
   "outputs": [
    {
     "data": {
      "text/plain": [
       "33229"
      ]
     },
     "execution_count": 59,
     "metadata": {},
     "output_type": "execute_result"
    }
   ],
   "source": [
    "#length of ServerID when value 1\n",
    "len(data[data['ServerID']==1])"
   ]
  },
  {
   "cell_type": "code",
   "execution_count": 60,
   "metadata": {},
   "outputs": [
    {
     "data": {
      "text/plain": [
       "33105"
      ]
     },
     "execution_count": 60,
     "metadata": {},
     "output_type": "execute_result"
    }
   ],
   "source": [
    "#length of ServerID when value 2\n",
    "len(data[data['ServerID']==2])"
   ]
  },
  {
   "cell_type": "code",
   "execution_count": 61,
   "metadata": {},
   "outputs": [
    {
     "data": {
      "text/plain": [
       "33182"
      ]
     },
     "execution_count": 61,
     "metadata": {},
     "output_type": "execute_result"
    }
   ],
   "source": [
    "#length of ServerID when value 3\n",
    "len(data[data['ServerID']==3])"
   ]
  },
  {
   "cell_type": "code",
   "execution_count": 62,
   "metadata": {},
   "outputs": [
    {
     "data": {
      "text/html": [
       "<div>\n",
       "<style scoped>\n",
       "    .dataframe tbody tr th:only-of-type {\n",
       "        vertical-align: middle;\n",
       "    }\n",
       "\n",
       "    .dataframe tbody tr th {\n",
       "        vertical-align: top;\n",
       "    }\n",
       "\n",
       "    .dataframe thead th {\n",
       "        text-align: right;\n",
       "    }\n",
       "</style>\n",
       "<table border=\"1\" class=\"dataframe\">\n",
       "  <thead>\n",
       "    <tr style=\"text-align: right;\">\n",
       "      <th>VisitPageFlag</th>\n",
       "      <th>0</th>\n",
       "      <th>1</th>\n",
       "    </tr>\n",
       "    <tr>\n",
       "      <th>ServerID</th>\n",
       "      <th></th>\n",
       "      <th></th>\n",
       "    </tr>\n",
       "  </thead>\n",
       "  <tbody>\n",
       "    <tr>\n",
       "      <th>1</th>\n",
       "      <td>30938</td>\n",
       "      <td>2291</td>\n",
       "    </tr>\n",
       "    <tr>\n",
       "      <th>2</th>\n",
       "      <td>31359</td>\n",
       "      <td>1746</td>\n",
       "    </tr>\n",
       "    <tr>\n",
       "      <th>3</th>\n",
       "      <td>31461</td>\n",
       "      <td>1721</td>\n",
       "    </tr>\n",
       "  </tbody>\n",
       "</table>\n",
       "</div>"
      ],
      "text/plain": [
       "VisitPageFlag      0     1\n",
       "ServerID                  \n",
       "1              30938  2291\n",
       "2              31359  1746\n",
       "3              31461  1721"
      ]
     },
     "execution_count": 62,
     "metadata": {},
     "output_type": "execute_result"
    }
   ],
   "source": [
    "#compare each ServerID with VisitPageFlag\n",
    "serverID_with_visitPage = pd.crosstab(data[\"ServerID\"], data['VisitPageFlag'])\n",
    "serverID_with_visitPage"
   ]
  },
  {
   "attachments": {},
   "cell_type": "markdown",
   "metadata": {},
   "source": [
    "We will set ServerID = 1 as `Treatment` Group and ServerID = 2 and 3 as `Control` Group"
   ]
  },
  {
   "cell_type": "code",
   "execution_count": 63,
   "metadata": {},
   "outputs": [
    {
     "data": {
      "text/html": [
       "<div>\n",
       "<style scoped>\n",
       "    .dataframe tbody tr th:only-of-type {\n",
       "        vertical-align: middle;\n",
       "    }\n",
       "\n",
       "    .dataframe tbody tr th {\n",
       "        vertical-align: top;\n",
       "    }\n",
       "\n",
       "    .dataframe thead th {\n",
       "        text-align: right;\n",
       "    }\n",
       "</style>\n",
       "<table border=\"1\" class=\"dataframe\">\n",
       "  <thead>\n",
       "    <tr style=\"text-align: right;\">\n",
       "      <th></th>\n",
       "      <th>RecordID</th>\n",
       "      <th>IP Address</th>\n",
       "      <th>LoggedInFlag</th>\n",
       "      <th>ServerID</th>\n",
       "      <th>VisitPageFlag</th>\n",
       "      <th>Group</th>\n",
       "    </tr>\n",
       "  </thead>\n",
       "  <tbody>\n",
       "    <tr>\n",
       "      <th>0</th>\n",
       "      <td>1</td>\n",
       "      <td>39.13.114.2</td>\n",
       "      <td>1</td>\n",
       "      <td>2</td>\n",
       "      <td>0</td>\n",
       "      <td>Control</td>\n",
       "    </tr>\n",
       "    <tr>\n",
       "      <th>1</th>\n",
       "      <td>2</td>\n",
       "      <td>13.3.25.8</td>\n",
       "      <td>1</td>\n",
       "      <td>1</td>\n",
       "      <td>0</td>\n",
       "      <td>Treatment</td>\n",
       "    </tr>\n",
       "    <tr>\n",
       "      <th>2</th>\n",
       "      <td>3</td>\n",
       "      <td>247.8.211.8</td>\n",
       "      <td>1</td>\n",
       "      <td>1</td>\n",
       "      <td>0</td>\n",
       "      <td>Treatment</td>\n",
       "    </tr>\n",
       "    <tr>\n",
       "      <th>3</th>\n",
       "      <td>4</td>\n",
       "      <td>124.8.220.3</td>\n",
       "      <td>0</td>\n",
       "      <td>3</td>\n",
       "      <td>0</td>\n",
       "      <td>Control</td>\n",
       "    </tr>\n",
       "    <tr>\n",
       "      <th>4</th>\n",
       "      <td>5</td>\n",
       "      <td>60.10.192.7</td>\n",
       "      <td>0</td>\n",
       "      <td>2</td>\n",
       "      <td>0</td>\n",
       "      <td>Control</td>\n",
       "    </tr>\n",
       "  </tbody>\n",
       "</table>\n",
       "</div>"
      ],
      "text/plain": [
       "   RecordID   IP Address  LoggedInFlag  ServerID  VisitPageFlag      Group\n",
       "0         1  39.13.114.2             1         2              0    Control\n",
       "1         2    13.3.25.8             1         1              0  Treatment\n",
       "2         3  247.8.211.8             1         1              0  Treatment\n",
       "3         4  124.8.220.3             0         3              0    Control\n",
       "4         5  60.10.192.7             0         2              0    Control"
      ]
     },
     "execution_count": 63,
     "metadata": {},
     "output_type": "execute_result"
    }
   ],
   "source": [
    "data['Group'] = np.where(data['ServerID'] == 1, 'Treatment', 'Control')\n",
    "data.head()"
   ]
  },
  {
   "cell_type": "code",
   "execution_count": 64,
   "metadata": {},
   "outputs": [
    {
     "data": {
      "text/plain": [
       "66287"
      ]
     },
     "execution_count": 64,
     "metadata": {},
     "output_type": "execute_result"
    }
   ],
   "source": [
    "#length of Control Group\n",
    "n_control = len(data[data['Group']=='Control'])\n",
    "n_control"
   ]
  },
  {
   "cell_type": "code",
   "execution_count": 65,
   "metadata": {},
   "outputs": [
    {
     "data": {
      "text/plain": [
       "33229"
      ]
     },
     "execution_count": 65,
     "metadata": {},
     "output_type": "execute_result"
    }
   ],
   "source": [
    "#length of Treatment Group\n",
    "n_treatment = len(data[data['Group']=='Treatment'])\n",
    "n_treatment"
   ]
  },
  {
   "attachments": {},
   "cell_type": "markdown",
   "metadata": {},
   "source": [
    "*Calculate of sample size = \n",
    "n = 16(0.5)2 / 0.022  = 10.000 users in each variant*"
   ]
  },
  {
   "attachments": {},
   "cell_type": "markdown",
   "metadata": {},
   "source": [
    "From calculating of sample size, we get 10.000 users in each variant. So we can sample using Simple Random Sampling in this dataset."
   ]
  },
  {
   "cell_type": "code",
   "execution_count": 66,
   "metadata": {},
   "outputs": [],
   "source": [
    "#initialization the number of sample\n",
    "n = 10_000"
   ]
  },
  {
   "cell_type": "code",
   "execution_count": 67,
   "metadata": {},
   "outputs": [
    {
     "data": {
      "text/html": [
       "<div>\n",
       "<style scoped>\n",
       "    .dataframe tbody tr th:only-of-type {\n",
       "        vertical-align: middle;\n",
       "    }\n",
       "\n",
       "    .dataframe tbody tr th {\n",
       "        vertical-align: top;\n",
       "    }\n",
       "\n",
       "    .dataframe thead th {\n",
       "        text-align: right;\n",
       "    }\n",
       "</style>\n",
       "<table border=\"1\" class=\"dataframe\">\n",
       "  <thead>\n",
       "    <tr style=\"text-align: right;\">\n",
       "      <th></th>\n",
       "      <th>RecordID</th>\n",
       "      <th>IP Address</th>\n",
       "      <th>LoggedInFlag</th>\n",
       "      <th>ServerID</th>\n",
       "      <th>VisitPageFlag</th>\n",
       "      <th>Group</th>\n",
       "    </tr>\n",
       "  </thead>\n",
       "  <tbody>\n",
       "    <tr>\n",
       "      <th>82240</th>\n",
       "      <td>82241</td>\n",
       "      <td>144.11.76.3</td>\n",
       "      <td>1</td>\n",
       "      <td>3</td>\n",
       "      <td>0</td>\n",
       "      <td>Control</td>\n",
       "    </tr>\n",
       "    <tr>\n",
       "      <th>12537</th>\n",
       "      <td>12538</td>\n",
       "      <td>249.7.231.1</td>\n",
       "      <td>1</td>\n",
       "      <td>2</td>\n",
       "      <td>0</td>\n",
       "      <td>Control</td>\n",
       "    </tr>\n",
       "    <tr>\n",
       "      <th>93197</th>\n",
       "      <td>93198</td>\n",
       "      <td>173.4.129.2</td>\n",
       "      <td>1</td>\n",
       "      <td>3</td>\n",
       "      <td>0</td>\n",
       "      <td>Control</td>\n",
       "    </tr>\n",
       "    <tr>\n",
       "      <th>109050</th>\n",
       "      <td>109051</td>\n",
       "      <td>144.11.220.8</td>\n",
       "      <td>1</td>\n",
       "      <td>3</td>\n",
       "      <td>0</td>\n",
       "      <td>Control</td>\n",
       "    </tr>\n",
       "    <tr>\n",
       "      <th>81462</th>\n",
       "      <td>81463</td>\n",
       "      <td>136.11.195.9</td>\n",
       "      <td>0</td>\n",
       "      <td>2</td>\n",
       "      <td>0</td>\n",
       "      <td>Control</td>\n",
       "    </tr>\n",
       "    <tr>\n",
       "      <th>...</th>\n",
       "      <td>...</td>\n",
       "      <td>...</td>\n",
       "      <td>...</td>\n",
       "      <td>...</td>\n",
       "      <td>...</td>\n",
       "      <td>...</td>\n",
       "    </tr>\n",
       "    <tr>\n",
       "      <th>84354</th>\n",
       "      <td>84355</td>\n",
       "      <td>213.1.89.9</td>\n",
       "      <td>0</td>\n",
       "      <td>2</td>\n",
       "      <td>0</td>\n",
       "      <td>Control</td>\n",
       "    </tr>\n",
       "    <tr>\n",
       "      <th>68577</th>\n",
       "      <td>68578</td>\n",
       "      <td>106.0.163.1</td>\n",
       "      <td>1</td>\n",
       "      <td>2</td>\n",
       "      <td>0</td>\n",
       "      <td>Control</td>\n",
       "    </tr>\n",
       "    <tr>\n",
       "      <th>114943</th>\n",
       "      <td>114944</td>\n",
       "      <td>6.16.120.3</td>\n",
       "      <td>1</td>\n",
       "      <td>3</td>\n",
       "      <td>0</td>\n",
       "      <td>Control</td>\n",
       "    </tr>\n",
       "    <tr>\n",
       "      <th>56775</th>\n",
       "      <td>56776</td>\n",
       "      <td>15.10.158.5</td>\n",
       "      <td>0</td>\n",
       "      <td>3</td>\n",
       "      <td>0</td>\n",
       "      <td>Control</td>\n",
       "    </tr>\n",
       "    <tr>\n",
       "      <th>94673</th>\n",
       "      <td>94674</td>\n",
       "      <td>40.1.48.9</td>\n",
       "      <td>0</td>\n",
       "      <td>3</td>\n",
       "      <td>0</td>\n",
       "      <td>Control</td>\n",
       "    </tr>\n",
       "  </tbody>\n",
       "</table>\n",
       "<p>10000 rows × 6 columns</p>\n",
       "</div>"
      ],
      "text/plain": [
       "        RecordID    IP Address  LoggedInFlag  ServerID  VisitPageFlag    Group\n",
       "82240      82241   144.11.76.3             1         3              0  Control\n",
       "12537      12538   249.7.231.1             1         2              0  Control\n",
       "93197      93198   173.4.129.2             1         3              0  Control\n",
       "109050    109051  144.11.220.8             1         3              0  Control\n",
       "81462      81463  136.11.195.9             0         2              0  Control\n",
       "...          ...           ...           ...       ...            ...      ...\n",
       "84354      84355    213.1.89.9             0         2              0  Control\n",
       "68577      68578   106.0.163.1             1         2              0  Control\n",
       "114943    114944    6.16.120.3             1         3              0  Control\n",
       "56775      56776   15.10.158.5             0         3              0  Control\n",
       "94673      94674     40.1.48.9             0         3              0  Control\n",
       "\n",
       "[10000 rows x 6 columns]"
      ]
     },
     "execution_count": 67,
     "metadata": {},
     "output_type": "execute_result"
    }
   ],
   "source": [
    "#choose sample on control\n",
    "sample_data_control = data[data['Group']=='Control'].sample(n = n,\n",
    "                                                              replace = False)\n",
    "#show sample on control\n",
    "sample_data_control"
   ]
  },
  {
   "cell_type": "code",
   "execution_count": 68,
   "metadata": {},
   "outputs": [
    {
     "data": {
      "text/html": [
       "<div>\n",
       "<style scoped>\n",
       "    .dataframe tbody tr th:only-of-type {\n",
       "        vertical-align: middle;\n",
       "    }\n",
       "\n",
       "    .dataframe tbody tr th {\n",
       "        vertical-align: top;\n",
       "    }\n",
       "\n",
       "    .dataframe thead th {\n",
       "        text-align: right;\n",
       "    }\n",
       "</style>\n",
       "<table border=\"1\" class=\"dataframe\">\n",
       "  <thead>\n",
       "    <tr style=\"text-align: right;\">\n",
       "      <th></th>\n",
       "      <th>RecordID</th>\n",
       "      <th>IP Address</th>\n",
       "      <th>LoggedInFlag</th>\n",
       "      <th>ServerID</th>\n",
       "      <th>VisitPageFlag</th>\n",
       "      <th>Group</th>\n",
       "    </tr>\n",
       "  </thead>\n",
       "  <tbody>\n",
       "    <tr>\n",
       "      <th>122314</th>\n",
       "      <td>122315</td>\n",
       "      <td>76.12.151.6</td>\n",
       "      <td>1</td>\n",
       "      <td>1</td>\n",
       "      <td>0</td>\n",
       "      <td>Treatment</td>\n",
       "    </tr>\n",
       "    <tr>\n",
       "      <th>24232</th>\n",
       "      <td>24233</td>\n",
       "      <td>132.8.118.2</td>\n",
       "      <td>0</td>\n",
       "      <td>1</td>\n",
       "      <td>0</td>\n",
       "      <td>Treatment</td>\n",
       "    </tr>\n",
       "    <tr>\n",
       "      <th>141755</th>\n",
       "      <td>141756</td>\n",
       "      <td>193.13.85.4</td>\n",
       "      <td>0</td>\n",
       "      <td>1</td>\n",
       "      <td>0</td>\n",
       "      <td>Treatment</td>\n",
       "    </tr>\n",
       "    <tr>\n",
       "      <th>68183</th>\n",
       "      <td>68184</td>\n",
       "      <td>19.5.254.7</td>\n",
       "      <td>0</td>\n",
       "      <td>1</td>\n",
       "      <td>0</td>\n",
       "      <td>Treatment</td>\n",
       "    </tr>\n",
       "    <tr>\n",
       "      <th>21706</th>\n",
       "      <td>21707</td>\n",
       "      <td>23.0.56.6</td>\n",
       "      <td>1</td>\n",
       "      <td>1</td>\n",
       "      <td>0</td>\n",
       "      <td>Treatment</td>\n",
       "    </tr>\n",
       "    <tr>\n",
       "      <th>...</th>\n",
       "      <td>...</td>\n",
       "      <td>...</td>\n",
       "      <td>...</td>\n",
       "      <td>...</td>\n",
       "      <td>...</td>\n",
       "      <td>...</td>\n",
       "    </tr>\n",
       "    <tr>\n",
       "      <th>114536</th>\n",
       "      <td>114537</td>\n",
       "      <td>28.2.140.1</td>\n",
       "      <td>1</td>\n",
       "      <td>1</td>\n",
       "      <td>0</td>\n",
       "      <td>Treatment</td>\n",
       "    </tr>\n",
       "    <tr>\n",
       "      <th>36563</th>\n",
       "      <td>36564</td>\n",
       "      <td>97.13.184.2</td>\n",
       "      <td>0</td>\n",
       "      <td>1</td>\n",
       "      <td>0</td>\n",
       "      <td>Treatment</td>\n",
       "    </tr>\n",
       "    <tr>\n",
       "      <th>101613</th>\n",
       "      <td>101614</td>\n",
       "      <td>117.11.126.6</td>\n",
       "      <td>0</td>\n",
       "      <td>1</td>\n",
       "      <td>0</td>\n",
       "      <td>Treatment</td>\n",
       "    </tr>\n",
       "    <tr>\n",
       "      <th>103237</th>\n",
       "      <td>103238</td>\n",
       "      <td>40.3.81.6</td>\n",
       "      <td>1</td>\n",
       "      <td>1</td>\n",
       "      <td>0</td>\n",
       "      <td>Treatment</td>\n",
       "    </tr>\n",
       "    <tr>\n",
       "      <th>90196</th>\n",
       "      <td>90197</td>\n",
       "      <td>59.2.17.2</td>\n",
       "      <td>1</td>\n",
       "      <td>1</td>\n",
       "      <td>0</td>\n",
       "      <td>Treatment</td>\n",
       "    </tr>\n",
       "  </tbody>\n",
       "</table>\n",
       "<p>10000 rows × 6 columns</p>\n",
       "</div>"
      ],
      "text/plain": [
       "        RecordID    IP Address  LoggedInFlag  ServerID  VisitPageFlag  \\\n",
       "122314    122315   76.12.151.6             1         1              0   \n",
       "24232      24233   132.8.118.2             0         1              0   \n",
       "141755    141756   193.13.85.4             0         1              0   \n",
       "68183      68184    19.5.254.7             0         1              0   \n",
       "21706      21707     23.0.56.6             1         1              0   \n",
       "...          ...           ...           ...       ...            ...   \n",
       "114536    114537    28.2.140.1             1         1              0   \n",
       "36563      36564   97.13.184.2             0         1              0   \n",
       "101613    101614  117.11.126.6             0         1              0   \n",
       "103237    103238     40.3.81.6             1         1              0   \n",
       "90196      90197     59.2.17.2             1         1              0   \n",
       "\n",
       "            Group  \n",
       "122314  Treatment  \n",
       "24232   Treatment  \n",
       "141755  Treatment  \n",
       "68183   Treatment  \n",
       "21706   Treatment  \n",
       "...           ...  \n",
       "114536  Treatment  \n",
       "36563   Treatment  \n",
       "101613  Treatment  \n",
       "103237  Treatment  \n",
       "90196   Treatment  \n",
       "\n",
       "[10000 rows x 6 columns]"
      ]
     },
     "execution_count": 68,
     "metadata": {},
     "output_type": "execute_result"
    }
   ],
   "source": [
    "#choose sample on treatment\n",
    "sample_data_treatment = data[data['Group']=='Treatment'].sample(n = n,\n",
    "                                                              replace = False)\n",
    "#show sample on treatment\n",
    "sample_data_treatment"
   ]
  },
  {
   "attachments": {},
   "cell_type": "markdown",
   "metadata": {},
   "source": [
    "Calculate Click-Through-Rate"
   ]
  },
  {
   "attachments": {},
   "cell_type": "markdown",
   "metadata": {},
   "source": [
    "<center>\n",
    "\n",
    "|Group|#User|#Count Clicked|CTR\n",
    "|:--|:--:|:--:|:--:|\n",
    "|Control|10.000|-|-|\n",
    "|Treatment|10.000|-|-|\n",
    "\n",
    "</center>"
   ]
  },
  {
   "cell_type": "code",
   "execution_count": 69,
   "metadata": {},
   "outputs": [
    {
     "data": {
      "text/plain": [
       "528"
      ]
     },
     "execution_count": 69,
     "metadata": {},
     "output_type": "execute_result"
    }
   ],
   "source": [
    "#find control group that is CTR\n",
    "data_control_ctr = sample_data_control[(sample_data_control['VisitPageFlag'] == 1)]\n",
    "\n",
    "#length of CTR on control group\n",
    "n_control_ctr = len(data_control_ctr)\n",
    "n_control_ctr"
   ]
  },
  {
   "cell_type": "code",
   "execution_count": 70,
   "metadata": {},
   "outputs": [
    {
     "data": {
      "text/plain": [
       "692"
      ]
     },
     "execution_count": 70,
     "metadata": {},
     "output_type": "execute_result"
    }
   ],
   "source": [
    "#find treatment group that is CTR\n",
    "data_treatment_ctr = sample_data_treatment[(sample_data_treatment['VisitPageFlag'] == 1)]\n",
    "\n",
    "#length of CTR on treatment group\n",
    "n_treatment_ctr = len(data_treatment_ctr)\n",
    "n_treatment_ctr"
   ]
  },
  {
   "cell_type": "code",
   "execution_count": 71,
   "metadata": {},
   "outputs": [
    {
     "data": {
      "text/html": [
       "<div>\n",
       "<style scoped>\n",
       "    .dataframe tbody tr th:only-of-type {\n",
       "        vertical-align: middle;\n",
       "    }\n",
       "\n",
       "    .dataframe tbody tr th {\n",
       "        vertical-align: top;\n",
       "    }\n",
       "\n",
       "    .dataframe thead th {\n",
       "        text-align: right;\n",
       "    }\n",
       "</style>\n",
       "<table border=\"1\" class=\"dataframe\">\n",
       "  <thead>\n",
       "    <tr style=\"text-align: right;\">\n",
       "      <th>VisitPageFlag</th>\n",
       "      <th>0</th>\n",
       "      <th>1</th>\n",
       "      <th>All</th>\n",
       "    </tr>\n",
       "    <tr>\n",
       "      <th>Group</th>\n",
       "      <th></th>\n",
       "      <th></th>\n",
       "      <th></th>\n",
       "    </tr>\n",
       "  </thead>\n",
       "  <tbody>\n",
       "    <tr>\n",
       "      <th>Control</th>\n",
       "      <td>9472</td>\n",
       "      <td>528</td>\n",
       "      <td>10000</td>\n",
       "    </tr>\n",
       "    <tr>\n",
       "      <th>Treatment</th>\n",
       "      <td>9308</td>\n",
       "      <td>692</td>\n",
       "      <td>10000</td>\n",
       "    </tr>\n",
       "    <tr>\n",
       "      <th>All</th>\n",
       "      <td>18780</td>\n",
       "      <td>1220</td>\n",
       "      <td>20000</td>\n",
       "    </tr>\n",
       "  </tbody>\n",
       "</table>\n",
       "</div>"
      ],
      "text/plain": [
       "VisitPageFlag      0     1    All\n",
       "Group                            \n",
       "Control         9472   528  10000\n",
       "Treatment       9308   692  10000\n",
       "All            18780  1220  20000"
      ]
     },
     "execution_count": 71,
     "metadata": {},
     "output_type": "execute_result"
    }
   ],
   "source": [
    "#merge sample data control and treatment\n",
    "data_sample = pd.concat([sample_data_control, sample_data_treatment], ignore_index=True)\n",
    "\n",
    "#comparing the Control and Treatment Group on VisitPageFlag\n",
    "group_with_visitPage = pd.crosstab(data_sample['Group'], data_sample['VisitPageFlag'], margins=True)\n",
    "group_with_visitPage"
   ]
  },
  {
   "cell_type": "code",
   "execution_count": 72,
   "metadata": {},
   "outputs": [
    {
     "data": {
      "text/plain": [
       "Text(0, 0.5, 'Frequency')"
      ]
     },
     "execution_count": 72,
     "metadata": {},
     "output_type": "execute_result"
    },
    {
     "data": {
      "image/png": "[encoded data removed]",
      "text/plain": [
       "<Figure size 1000x700 with 1 Axes>"
      ]
     },
     "metadata": {},
     "output_type": "display_data"
    }
   ],
   "source": [
    "#Make histogram on data_sample\n",
    "#bins = 10\n",
    "fig, ax = plt.subplots(figsize =(10, 7))\n",
    "ax.hist(data_sample['VisitPageFlag'],bins=10)\n",
    " \n",
    "# Show plot\n",
    "plt.xlabel('VisitPageFlag')\n",
    "plt.ylabel('Frequency')"
   ]
  },
  {
   "attachments": {},
   "cell_type": "markdown",
   "metadata": {},
   "source": [
    "Finally, calculate CTR on each group"
   ]
  },
  {
   "cell_type": "code",
   "execution_count": 73,
   "metadata": {},
   "outputs": [
    {
     "data": {
      "text/plain": [
       "0.0528"
      ]
     },
     "execution_count": 73,
     "metadata": {},
     "output_type": "execute_result"
    }
   ],
   "source": [
    "#CTR control group\n",
    "ctr_control = n_control_ctr / n\n",
    "ctr_control"
   ]
  },
  {
   "cell_type": "code",
   "execution_count": 74,
   "metadata": {},
   "outputs": [
    {
     "data": {
      "text/plain": [
       "0.0692"
      ]
     },
     "execution_count": 74,
     "metadata": {},
     "output_type": "execute_result"
    }
   ],
   "source": [
    "#CTR treatment group\n",
    "ctr_treatment = n_treatment_ctr / n\n",
    "ctr_treatment"
   ]
  },
  {
   "attachments": {},
   "cell_type": "markdown",
   "metadata": {},
   "source": [
    "<center>\n",
    "\n",
    "|Group|#User|#Count Clicked|CTR\n",
    "|:--|:--:|:--:|:--:|\n",
    "|Control|10.000|525|0.0525|\n",
    "|Treatment|10.000|710|0.071|\n",
    "\n",
    "</center>"
   ]
  },
  {
   "attachments": {},
   "cell_type": "markdown",
   "metadata": {},
   "source": [
    "On Visualization"
   ]
  },
  {
   "cell_type": "code",
   "execution_count": 75,
   "metadata": {},
   "outputs": [
    {
     "name": "stderr",
     "output_type": "stream",
     "text": [
      "C:\\Users\\UYUN\\AppData\\Local\\Temp\\ipykernel_11748\\3857991313.py:11: UserWarning: FixedFormatter should only be used together with FixedLocator\n",
      "  ax.set_xticklabels(labels=[\"Control\", \"Treatment\"], fontsize=14)\n"
     ]
    },
    {
     "data": {
      "image/png": "[encoded data removed]",
      "text/plain": [
       "<Figure size 1000x700 with 1 Axes>"
      ]
     },
     "metadata": {},
     "output_type": "display_data"
    }
   ],
   "source": [
    "#compare visualization CTR each variant\n",
    "fig, ax = plt.subplots(nrows=1, ncols=1, figsize=(10,7))\n",
    "\n",
    "#make plot\n",
    "ax.bar(\"Control\", ctr_control, color=\"peru\", label=\"Control\")\n",
    "ax.bar(\"Treatment\", ctr_treatment, color=\"brown\", label=\"Treatment\")\n",
    "\n",
    "#styling plot\n",
    "ax.set_ylabel(\"Click-Through-Rate\", fontsize=14)\n",
    "ax.set_xlabel(\"Group\", fontsize=14)\n",
    "ax.set_xticklabels(labels=[\"Control\", \"Treatment\"], fontsize=14)\n",
    "ax.legend(fontsize=16)\n",
    "plt.show()"
   ]
  },
  {
   "attachments": {},
   "cell_type": "markdown",
   "metadata": {},
   "source": [
    "#### Sample Ratio Mismatch (SRM)\n",
    "\n",
    "We will detect the SRM using chi-square test"
   ]
  },
  {
   "attachments": {},
   "cell_type": "markdown",
   "metadata": {},
   "source": [
    "*Pre-Analysis*\n",
    "\n",
    "- Before doing the chi-square test, let's fill in the following table to make it easier to detect the presence of SRM.\n",
    "\n",
    "<center>\n",
    "\n",
    "|Group|#User|#Count Clicked|CTR|Percentage|\n",
    "|:--|:--:|:--:|:--:|:--:|\n",
    "|Control|10.000|525|0.0525|-|\n",
    "|Treatment|10.000|710|0.071|-|\n",
    "\n",
    "</center>\n",
    "\n",
    "* Percentage is the percentage of sample size in each group"
   ]
  },
  {
   "cell_type": "code",
   "execution_count": 76,
   "metadata": {},
   "outputs": [
    {
     "data": {
      "text/plain": [
       "10000"
      ]
     },
     "execution_count": 76,
     "metadata": {},
     "output_type": "execute_result"
    }
   ],
   "source": [
    "# Number of users in the control group\n",
    "n_control = sample_data_control.shape[0]\n",
    "\n",
    "n_control"
   ]
  },
  {
   "cell_type": "code",
   "execution_count": 77,
   "metadata": {},
   "outputs": [
    {
     "data": {
      "text/plain": [
       "10000"
      ]
     },
     "execution_count": 77,
     "metadata": {},
     "output_type": "execute_result"
    }
   ],
   "source": [
    "# Number of users in the treatment group\n",
    "n_treatment = sample_data_treatment.shape[0]\n",
    "\n",
    "n_treatment"
   ]
  },
  {
   "cell_type": "code",
   "execution_count": 78,
   "metadata": {},
   "outputs": [
    {
     "name": "stdout",
     "output_type": "stream",
     "text": [
      "% control   : 50.00%\n",
      "% treatment : 50.00%\n"
     ]
    }
   ],
   "source": [
    "# Percentage in each group\n",
    "n_total = data_sample.shape[0]\n",
    "persen_control = n_control/n_total * 100\n",
    "persen_treat = n_treatment/n_total * 100\n",
    "\n",
    "print(f\"% control   : {persen_control:.2f}%\")\n",
    "print(f\"% treatment : {persen_treat:.2f}%\")"
   ]
  },
  {
   "attachments": {},
   "cell_type": "markdown",
   "metadata": {},
   "source": [
    "- We get\n",
    "<center>\n",
    "\n",
    "|Group|#User|#Count Clicked|CTR|Percentage|\n",
    "|:--|:--:|:--:|:--:|:--:|\n",
    "|Control|10.000|525|0.0525|50.00%|\n",
    "|Treatment|10.000|710|0.071|50.00%|\n",
    "\n",
    "</center>"
   ]
  },
  {
   "attachments": {},
   "cell_type": "markdown",
   "metadata": {},
   "source": [
    "#### Chi-Square Test for Detect SRM\n",
    "\n",
    "The steps for doing a chi-square test in order to detect SRM are:"
   ]
  },
  {
   "attachments": {},
   "cell_type": "markdown",
   "metadata": {},
   "source": [
    "**1. Define the null and alternative hypothesis ($H_0$ and $H_1$)**\n",
    "\n",
    "$H_0$  : No SRM detected\n",
    "\n",
    "$H_1$  : SRM detected"
   ]
  },
  {
   "attachments": {},
   "cell_type": "markdown",
   "metadata": {},
   "source": [
    "**2. Calculate chi-square statistics**\n",
    "\n",
    "$$ \\chi^2 = \\sum \\frac{\\left ( \\text{observed - expected} \\right )^2}{\\text{expected}} $$\n",
    "\n",
    "Where :\n",
    "- Observed: the control and variation traffic volumes (sample size), respectively\n",
    "- Expected: the expected values for control and treatment — i.e. the total observed divided by 2"
   ]
  },
  {
   "attachments": {},
   "cell_type": "markdown",
   "metadata": {},
   "source": [
    "Observed is the same as #user in each group.\n",
    "\n",
    "For calculate expexted in each group, we can use total observed divided by 2"
   ]
  },
  {
   "cell_type": "code",
   "execution_count": 79,
   "metadata": {},
   "outputs": [],
   "source": [
    "observed = [n_control, n_treatment]\n",
    "total_traffic= sum(observed)\n",
    "expected = [ total_traffic/2, total_traffic/2 ]"
   ]
  },
  {
   "attachments": {},
   "cell_type": "markdown",
   "metadata": {},
   "source": [
    "Then we can calculate the chi-square statistics using the function in the `scipy` library, namely `chisquare` with steps: \n",
    "\n",
    "1. import library\n",
    "    - from scipy.stats import chisquare\n",
    "2. Use the function `chisquare(f_obs, f_exp=...)`\n",
    "    - `f_obs`: Observed frequencies in each category (array)\n",
    "    - `f_exp`: Expected frequencies in each category. By default the categories are assumed to be equally likely."
   ]
  },
  {
   "cell_type": "code",
   "execution_count": 80,
   "metadata": {},
   "outputs": [
    {
     "name": "stdout",
     "output_type": "stream",
     "text": [
      "Power_divergenceResult(statistic=0.0, pvalue=1.0)\n"
     ]
    }
   ],
   "source": [
    "#calculate chi-square statistics\n",
    "from scipy.stats import chisquare\n",
    "chi = chisquare(observed, f_exp=expected)\n",
    "print(chi)"
   ]
  },
  {
   "attachments": {},
   "cell_type": "markdown",
   "metadata": {},
   "source": [
    "**3. Define decision rules**"
   ]
  },
  {
   "attachments": {},
   "cell_type": "markdown",
   "metadata": {},
   "source": [
    "In making statistical test decisions, we can use:\n",
    "- Comparison of chi-square statistics with critical value\n",
    "     -  $\\chi^2 > \\chi^2_{\\alpha,df}$ → reject $H_0$\n",
    "\n",
    "- Comparison of p-value with alpha\n",
    "   - pvalue < $\\alpha$ → reject $H_0$\n",
    "\n",
    "\n",
    "Normally, one would look for a p-value of 0.05 or less to proof of SRM. The problem with 0.05 is that it’s not strict enough for our purposes. Using this might give us a false signal. What we need is to be stricter for our test. So we use significance level 1%.\n",
    "\n",
    "degree of freedom (df) is calculated as: \n",
    "$$ df = (rows − 1) × (columns − 1) $$ \n"
   ]
  },
  {
   "cell_type": "code",
   "execution_count": 81,
   "metadata": {},
   "outputs": [
    {
     "name": "stdout",
     "output_type": "stream",
     "text": [
      "Critical value: 3.841\n"
     ]
    }
   ],
   "source": [
    "# Comparison of chi-square statistics with critical value\n",
    "# We must calculate the critical first\n",
    "\n",
    "# critical value is the chi-square value at alpha\n",
    "alpha = 0.05\n",
    "df=(2-1)*(2-1)  \n",
    "\n",
    "import scipy\n",
    "chi_critical = scipy.stats.chi2.ppf(1 - alpha, df)\n",
    "print(f\"Critical value: {chi_critical:.3f}\")"
   ]
  },
  {
   "cell_type": "code",
   "execution_count": 82,
   "metadata": {},
   "outputs": [
    {
     "name": "stdout",
     "output_type": "stream",
     "text": [
      "Fail to reject H0 : No SRM\n"
     ]
    }
   ],
   "source": [
    "#Make decisions from chi-square statistics and critical value\n",
    "if chi[0] > chi_critical:\n",
    "  print(\"Reject H0 : SRM may be present.\")\n",
    "else:\n",
    "  print(\"Fail to reject H0 : No SRM\")"
   ]
  },
  {
   "cell_type": "code",
   "execution_count": 83,
   "metadata": {},
   "outputs": [
    {
     "name": "stdout",
     "output_type": "stream",
     "text": [
      "Fail to reject H0 : No SRM.\n"
     ]
    }
   ],
   "source": [
    "# Comparison of P-Value with alpha.\n",
    "if chi[1] < 0.01:\n",
    "    print('Reject H0 : SRM may be present.')\n",
    "else:\n",
    "    print('Fail to reject H0 : No SRM.')"
   ]
  },
  {
   "attachments": {},
   "cell_type": "markdown",
   "metadata": {},
   "source": [
    "Based on the detection of SRM, SRM was not detected."
   ]
  },
  {
   "attachments": {},
   "cell_type": "markdown",
   "metadata": {},
   "source": [
    "#### Hypothesis testing"
   ]
  },
  {
   "attachments": {},
   "cell_type": "markdown",
   "metadata": {},
   "source": [
    "- Define null hypothesis ($H_0$) dan alternative hypothesis ($H_1$)\n",
    "\n",
    ">H0 (Null Hypothesis)       : CTR New link, such as in picture not text ≤ existing link <br> \n",
    "H1 (Alternative Hypothesis) : CTR New link, such as in picture not text > existing link\n",
    "\n",
    "- Conduct statistical test and let's fill let's fill in the following table\n",
    "\n",
    "<center>\n",
    "\n",
    "|Z statistics|P-value|Selisih antar CTR\n",
    "|:--:|:--:|:--:|\n",
    "|-|-|-|\n",
    "\n",
    "</center>"
   ]
  },
  {
   "attachments": {},
   "cell_type": "markdown",
   "metadata": {},
   "source": [
    "- We need to do a statistical test to find out whether the differences obtained are statistically significant.\n",
    "- Define $z_{\\text{crit}}$, $z_{\\text{statistics}}$ dan $\\text{p-value}$\n",
    "- To calculate it, we can use the `statsmodel` library"
   ]
  },
  {
   "cell_type": "code",
   "execution_count": 84,
   "metadata": {},
   "outputs": [],
   "source": [
    "# Import this library to calculate\n",
    "import statsmodels.api as sm\n",
    "from statsmodels.stats.proportion import proportions_ztest"
   ]
  },
  {
   "attachments": {},
   "cell_type": "markdown",
   "metadata": {},
   "source": [
    "**1. Calculate $z_{\\text{statistics}}$ dan p-value**\n",
    "Use this function\n",
    "```python\n",
    "test_stats, p_value = proportions_ztest(count = ...,\n",
    "                                        nobs = ...,\n",
    "                                        alternative = ...)\n",
    "```"
   ]
  },
  {
   "attachments": {},
   "cell_type": "markdown",
   "metadata": {},
   "source": [
    "- With \n",
    "    - `count` is the number of successful observations\n",
    "    - `nobs` is the total number of observations\n",
    "    - `alternative` is a form of hypothesis testing. Can be filled with `two-sided`, `smaller`, or `larger`"
   ]
  },
  {
   "attachments": {},
   "cell_type": "markdown",
   "metadata": {},
   "source": [
    "- Make count convert & total observation"
   ]
  },
  {
   "cell_type": "code",
   "execution_count": 85,
   "metadata": {},
   "outputs": [],
   "source": [
    "# Buat count convert & total observation\n",
    "count_convert = [n_treatment_ctr, n_control_ctr]\n",
    "count_observation = [n_treatment, n_control]"
   ]
  },
  {
   "cell_type": "code",
   "execution_count": 86,
   "metadata": {},
   "outputs": [
    {
     "data": {
      "text/plain": [
       "10000"
      ]
     },
     "execution_count": 86,
     "metadata": {},
     "output_type": "execute_result"
    }
   ],
   "source": [
    "n_treatment"
   ]
  },
  {
   "cell_type": "code",
   "execution_count": 87,
   "metadata": {},
   "outputs": [
    {
     "data": {
      "text/plain": [
       "10000"
      ]
     },
     "execution_count": 87,
     "metadata": {},
     "output_type": "execute_result"
    }
   ],
   "source": [
    "n_control"
   ]
  },
  {
   "cell_type": "code",
   "execution_count": 88,
   "metadata": {},
   "outputs": [
    {
     "data": {
      "text/plain": [
       "692"
      ]
     },
     "execution_count": 88,
     "metadata": {},
     "output_type": "execute_result"
    }
   ],
   "source": [
    "n_treatment_ctr"
   ]
  },
  {
   "cell_type": "code",
   "execution_count": 89,
   "metadata": {},
   "outputs": [
    {
     "data": {
      "text/plain": [
       "528"
      ]
     },
     "execution_count": 89,
     "metadata": {},
     "output_type": "execute_result"
    }
   ],
   "source": [
    "n_control_ctr"
   ]
  },
  {
   "attachments": {},
   "cell_type": "markdown",
   "metadata": {},
   "source": [
    "- create an `alternative` for this hypothesis test case\n",
    "- if we want to prove $H_{1}$ is not the same as a value, use `two-sided`\n",
    "- if $H_{1}$ is greater than a value, use `larger`\n",
    "- if $H_{1}$ is smaller than a value, use `smaller`\n",
    "- in this case, we use `larger` because we want to prove $CR_{\\text{new}}$ is greater than $CR_{\\text{old}}$"
   ]
  },
  {
   "cell_type": "code",
   "execution_count": 90,
   "metadata": {},
   "outputs": [],
   "source": [
    "#make alternative\n",
    "alternative_option = \"larger\""
   ]
  },
  {
   "attachments": {},
   "cell_type": "markdown",
   "metadata": {},
   "source": [
    "- calculate"
   ]
  },
  {
   "cell_type": "code",
   "execution_count": 91,
   "metadata": {},
   "outputs": [
    {
     "name": "stdout",
     "output_type": "stream",
     "text": [
      "Z stats : 4.8454\n",
      "P-value : 6.317309046992676e-07\n"
     ]
    }
   ],
   "source": [
    "#call function\n",
    "z_stat, p_value = proportions_ztest(count = count_convert,\n",
    "                                    nobs = count_observation,\n",
    "                                    alternative = alternative_option)\n",
    "\n",
    "print(f\"Z stats : {z_stat:.4f}\")\n",
    "print(f\"P-value : {p_value}\")"
   ]
  },
  {
   "attachments": {},
   "cell_type": "markdown",
   "metadata": {},
   "source": [
    "- Additionally, calculate the difference between the new & old CR"
   ]
  },
  {
   "cell_type": "code",
   "execution_count": 92,
   "metadata": {},
   "outputs": [
    {
     "data": {
      "text/plain": [
       "0.016399999999999998"
      ]
     },
     "execution_count": 92,
     "metadata": {},
     "output_type": "execute_result"
    }
   ],
   "source": [
    "ctr_treatment - ctr_control"
   ]
  },
  {
   "cell_type": "code",
   "execution_count": 93,
   "metadata": {},
   "outputs": [
    {
     "name": "stdout",
     "output_type": "stream",
     "text": [
      "relatife effect = 31.1 %\n"
     ]
    }
   ],
   "source": [
    "# addition\n",
    "# we can calculate the relative effect which shows how much the percentage increase or decrease in the CTR treatment compared to the control\n",
    "relative_effect_CTR = (ctr_treatment - ctr_control)/ctr_control * 100\n",
    "\n",
    "print(f\"relatife effect = {relative_effect_CTR:.3} %\")"
   ]
  },
  {
   "attachments": {},
   "cell_type": "markdown",
   "metadata": {},
   "source": [
    "let's fill let's fill in the following table\n",
    "\n",
    "<center>\n",
    "\n",
    "|Z statistics|P-value|Selisih antar CTR\n",
    "|:--:|:--:|:--:|\n",
    "|4.4239|0.0000|0.0148|\n",
    "\n",
    "</center>"
   ]
  },
  {
   "attachments": {},
   "cell_type": "markdown",
   "metadata": {},
   "source": [
    "There is a relative increase of 28.4%\n",
    "\n",
    "**Summarize the results of statistical tests**"
   ]
  },
  {
   "cell_type": "code",
   "execution_count": 94,
   "metadata": {},
   "outputs": [
    {
     "name": "stdout",
     "output_type": "stream",
     "text": [
      "Decision : Reject Null Hypothesis\n"
     ]
    }
   ],
   "source": [
    "# from p-value\n",
    "alpha = 0.05        # the confidence level that we set\n",
    "\n",
    "# make a decision based on p_value and alpha\n",
    "if p_value < alpha:\n",
    "    print(\"Decision : Reject Null Hypothesis\")\n",
    "else:\n",
    "    print(\"Decision : Fail to Reject Null Hypothesis\")"
   ]
  },
  {
   "cell_type": "code",
   "execution_count": 95,
   "metadata": {},
   "outputs": [
    {
     "data": {
      "text/plain": [
       "1.6448536269514722"
      ]
     },
     "execution_count": 95,
     "metadata": {},
     "output_type": "execute_result"
    }
   ],
   "source": [
    "# Z critical is the z-value at alpha\n",
    "z_critical = stats.norm.ppf(1 - alpha)\n",
    "z_critical"
   ]
  },
  {
   "cell_type": "code",
   "execution_count": 96,
   "metadata": {},
   "outputs": [
    {
     "name": "stdout",
     "output_type": "stream",
     "text": [
      "Decision : Reject Null Hypothesis\n"
     ]
    }
   ],
   "source": [
    "# from z-statistics\n",
    "# make decision based on z_critical and alpha\n",
    "if z_stat > z_critical:\n",
    "    print(\"Decision : Reject Null Hypothesis\")\n",
    "else:\n",
    "    print(\"Decision : Fail to Reject Null Hypothesis\")"
   ]
  },
  {
   "attachments": {},
   "cell_type": "markdown",
   "metadata": {},
   "source": [
    "**Visualization**"
   ]
  },
  {
   "attachments": {},
   "cell_type": "markdown",
   "metadata": {},
   "source": [
    "- We try to visualize the results of this statistical test.\n",
    "- We visualize in the graph the distribution of $z$ values\n",
    "- Therefore, we have to find the value of $z$ when $\\alpha = 0.05$ or $z_{\\text{critical}}$\n",
    "- We use the following library"
   ]
  },
  {
   "cell_type": "code",
   "execution_count": 97,
   "metadata": {},
   "outputs": [
    {
     "data": {
      "image/png": "[encoded data removed]",
      "text/plain": [
       "<Figure size 1000x700 with 1 Axes>"
      ]
     },
     "metadata": {},
     "output_type": "display_data"
    }
   ],
   "source": [
    "fig, ax = plt.subplots(nrows=1, ncols=1, figsize=(10, 7))\n",
    "\n",
    "# sample distribution plots\n",
    "x_sample = np.arange(-6., 6., 0.001)\n",
    "y_sample = stats.norm.pdf(x_sample, 0, 1)\n",
    "ax.plot(x_sample, y_sample,\n",
    "        color = \"blue\")\n",
    "\n",
    "# region plot of alpha (region where H-0 is rejected)\n",
    "# this region is red\n",
    "x_alpha = np.arange(z_critical, 6., 0.001)\n",
    "y_alpha = stats.norm.pdf(x_alpha)\n",
    "ax.fill_between(x = x_alpha,\n",
    "                y1 = y_alpha,\n",
    "                facecolor = \"red\", \n",
    "                alpha = .35,\n",
    "                label = \"alpha region\")\n",
    "\n",
    "\n",
    "# plot the region of the sample we find\n",
    "# this region is green\n",
    "x_test = np.arange(z_stat, 6., 0.001)\n",
    "y_test = stats.norm.pdf(x_test)\n",
    "ax.fill_between(x = x_test,\n",
    "                y1 = y_test,\n",
    "                facecolor = \"green\", \n",
    "                alpha = .35,\n",
    "                label = \"test region\")\n",
    "\n",
    "\n",
    "# Plot vertical line alpha\n",
    "ax.axvline(z_critical, \n",
    "           color = \"red\",\n",
    "           linestyle = \"--\",\n",
    "           label = \"z-critical\")\n",
    "\n",
    "# Plot vertical line test\n",
    "ax.axvline(z_stat, \n",
    "           color = \"green\",\n",
    "           linestyle = \"--\",\n",
    "           label = \"z-stat\")\n",
    "\n",
    "\n",
    "# Styling plot\n",
    "ax.set_xlabel(\"z\", fontsize=16)\n",
    "ax.set_ylabel(\"density\", fontsize=16)\n",
    "\n",
    "plt.legend(fontsize=16)\n",
    "plt.show()"
   ]
  },
  {
   "attachments": {},
   "cell_type": "markdown",
   "metadata": {},
   "source": [
    "- the area of the green region < the area of the red region(the region where $H_{0}$ is rejected)\n",
    "- that is, the probability of getting $H_{0}$ from the sample is even smaller than the $\\alpha$ limit we set.\n",
    "- that statistically, we don't have enough evidence to accept $H_{0}$ (small p-value less than $\\alpha$), so $H_{0}$ rejected"
   ]
  },
  {
   "attachments": {},
   "cell_type": "markdown",
   "metadata": {},
   "source": [
    "**Conclusion and Decision**\n",
    "\n",
    "- p-value (0.0000) < 𝛼 (0.05) → Reject H0\n",
    "- z statistics (4.4239) > z tabel (1.644) → Reject H0\n",
    "\n",
    "\n",
    "with significance level 5%, there is suffivient evidence that CTR New link such as in picture not text (treatment) more than existing link (control)\n",
    "\n",
    "in other words\n",
    "\n",
    "CTR New link, such as in picture not text will increase user interest in downloading the application."
   ]
  },
  {
   "attachments": {},
   "cell_type": "markdown",
   "metadata": {},
   "source": [
    "#### Confidence interval of difference between treatment and control"
   ]
  },
  {
   "cell_type": "code",
   "execution_count": 98,
   "metadata": {},
   "outputs": [
    {
     "name": "stdout",
     "output_type": "stream",
     "text": [
      "(0.009773382563138443, 0.023047725338149045)\n"
     ]
    }
   ],
   "source": [
    "from statsmodels.stats.proportion import confint_proportions_2indep\n",
    "\n",
    "confidence_interval = confint_proportions_2indep(count1 = n_treatment_ctr, nobs1 = n_treatment,\n",
    "                                                 count2 = n_control_ctr, nobs2 = n_control, \n",
    "                                                 compare='diff', alpha=0.05)\n",
    "print(confidence_interval)"
   ]
  },
  {
   "attachments": {},
   "cell_type": "markdown",
   "metadata": {},
   "source": [
    "Based on these results, we are 95% sure that the difference in the proportion of users who clicked on the new link (CTR) in the treatment (B) and control (A) groups lies between 0.011 and 0.088.\n",
    "\n",
    "Or it can be said that the increase in users when downloading applications using new links such as in picture (not text) (treatment) increases by 0.011 to 0.088."
   ]
  },
  {
   "attachments": {},
   "cell_type": "markdown",
   "metadata": {},
   "source": [
    "Recommendations for website of the grocery store chain :\n",
    "- Based on the statistical test results, the results are **statistically significant**. P-value = 0.05 indicates that there is a 5% probability that the observed difference is due to chance or other factors unrelated to the variable being observed..\n",
    "- But to make a decision whether to change the link to a button of the app store or not, must be **practically sigificant** such as :\n",
    "1. Resources and costs required to implement the change. If the cost required for the change to the link to a button of the app store on the website is very high and not proportional to the impact on mobile app downloads, then the change may not be considered practically significant..\n",
    "2. It is also necessary to consider the difference between performance before and after the change. If the change to the link to a button of the app store on the website can increase mobile app downloads by 1% or more, then the change may be considered practically significant. However, if the change only increases mobile app downloads by 0.1% or less, then the change may not be considered practically significant.\n",
    "- Based on the above considerations, the change is considered practically significant."
   ]
  },
  {
   "attachments": {},
   "cell_type": "markdown",
   "metadata": {},
   "source": [
    "Recommendation for the next experiment :"
   ]
  },
  {
   "attachments": {},
   "cell_type": "markdown",
   "metadata": {},
   "source": [
    "1. Download page variants: change the layout or content of the mobile app download page, such as adding images or positive reviews from other users.\n",
    "2. App description: Change the app description on the website, such as highlighting the benefits or advantages of the app.\n",
    "3. Changes to the overall appearance and content of the website: Changing the overall layout, design, and content of the website can affect the way users interact with the website.\n",
    "4. Target audience: There may be certain groups of users who are more likely to download apps than others, so changing the look and content of the website to appeal more to certain target groups could be a recommendation for future experiments."
   ]
  },
  {
   "cell_type": "markdown",
   "metadata": {},
   "source": []
  }
 ],
 "metadata": {
  "kernelspec": {
   "display_name": "base",
   "language": "python",
   "name": "python3"
  },
  "language_info": {
   "codemirror_mode": {
    "name": "ipython",
    "version": 3
   },
   "file_extension": ".py",
   "mimetype": "text/x-python",
   "name": "python",
   "nbconvert_exporter": "python",
   "pygments_lexer": "ipython3",
   "version": "3.9.13"
  },
  "orig_nbformat": 4
 },
 "nbformat": 4,
 "nbformat_minor": 2
}
